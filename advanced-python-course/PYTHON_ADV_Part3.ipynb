{
 "cells": [
  {
   "cell_type": "markdown",
   "id": "adc7e108-8f4e-447b-8fc6-fc06e576cb64",
   "metadata": {},
   "source": [
    "# PYTHON_ADV - Part 3"
   ]
  },
  {
   "cell_type": "code",
   "execution_count": 1,
   "id": "58f45e29-ff2f-4a36-b20d-4687b751da8e",
   "metadata": {},
   "outputs": [
    {
     "name": "stdout",
     "output_type": "stream",
     "text": [
      "Welcome to PYTHON_ADV - Part 3\n"
     ]
    }
   ],
   "source": [
    "print(\"Welcome to PYTHON_ADV - Part 3\")"
   ]
  },
  {
   "cell_type": "markdown",
   "id": "c86b2361-7c1b-4af8-8c1f-0f42b1a63995",
   "metadata": {},
   "source": [
    "### Test driven developement ( TDD )\n",
    "- Software development methodology based on tests\n",
    "- Test levels\n",
    " 1. unit tests\n",
    " 2. integration tests\n",
    " 3. acceptation tests\n",
    "- many differetent modules in Python\n",
    "- *pytest* module ( de facto standard for unit and integration tests )\n",
    "  - extensible with plugins ( code coverage, benchmarking, etc ..)\n",
    "- *pytest-cov* extension\n",
    "  - code coverage"
   ]
  },
  {
   "cell_type": "markdown",
   "id": "18f6f011-40bc-4d2e-add5-949aad49d68b",
   "metadata": {},
   "source": [
    "##### *pytest* module\n",
    "- not part of Stardard Python Library ( *pip3 install pytest* )\n",
    "- *pytest* command for executing tests\n",
    "- functions for tests have *test* prefix and are in files with *test* prefix\n",
    "- *assert* command ( generutes AssertionError if a condition is false )\n",
    "- support for 'test fixtures' - helpers that prepare/generate objects"
   ]
  },
  {
   "cell_type": "code",
   "execution_count": 1,
   "id": "659eb1d3-18af-492a-9a2c-628163defd70",
   "metadata": {},
   "outputs": [
    {
     "ename": "AssertionError",
     "evalue": "Toto by mělo být stejné",
     "output_type": "error",
     "traceback": [
      "\u001b[1;31m---------------------------------------------------------------------------\u001b[0m",
      "\u001b[1;31mAssertionError\u001b[0m                            Traceback (most recent call last)",
      "Input \u001b[1;32mIn [1]\u001b[0m, in \u001b[0;36m<module>\u001b[1;34m\u001b[0m\n\u001b[0;32m      2\u001b[0m \u001b[38;5;28;01massert\u001b[39;00m \u001b[38;5;241m1\u001b[39m \u001b[38;5;241m==\u001b[39m \u001b[38;5;241m1\u001b[39m         \u001b[38;5;66;03m# OK\u001b[39;00m\n\u001b[0;32m      3\u001b[0m \u001b[38;5;66;03m#assert 1 != 1         # AssertionError\u001b[39;00m\n\u001b[1;32m----> 5\u001b[0m \u001b[38;5;28;01massert\u001b[39;00m \u001b[38;5;241m1\u001b[39m \u001b[38;5;241m!=\u001b[39m \u001b[38;5;241m1\u001b[39m, \u001b[38;5;124m'\u001b[39m\u001b[38;5;124mToto by mělo být stejné\u001b[39m\u001b[38;5;124m'\u001b[39m\n",
      "\u001b[1;31mAssertionError\u001b[0m: Toto by mělo být stejné"
     ]
    }
   ],
   "source": [
    "# assert directive\n",
    "\n",
    "assert 1 == 1         # OK\n",
    "assert 1 != 1         # AssertionError\n",
    "\n",
    "assert 1 != 1, 'Some message' # provide customized message"
   ]
  },
  {
   "cell_type": "code",
   "execution_count": null,
   "id": "0fff2e51-93a9-4842-8528-76a2bc8fe2e9",
   "metadata": {},
   "outputs": [],
   "source": [
    "# Simple test example\n",
    "\n",
    "def add(a,b):\n",
    "    return a + b\n",
    "\n",
    "def test_add():\n",
    "    assert add(8,9) == 17, 'This test must not fail'"
   ]
  },
  {
   "cell_type": "code",
   "execution_count": null,
   "id": "b99b2fda-8065-4073-ba7c-d47d53873bb2",
   "metadata": {},
   "outputs": [],
   "source": [
    "# Test that expects exception\n",
    "import pytest\n",
    "\n",
    "def div(a,b):\n",
    "    return a/b\n",
    "\n",
    "def test_div():\n",
    "    with pytest.raises(ZeroDivisionError) as exc: # If there is an exception, its OK\n",
    "        div(100,0)"
   ]
  },
  {
   "cell_type": "code",
   "execution_count": null,
   "id": "d3ae19f5-4d14-4904-aa5e-c5b84fb3d832",
   "metadata": {},
   "outputs": [],
   "source": [
    "# Parametrized tests\n",
    "import pytest\n",
    "\n",
    "def add(a,b):\n",
    "    return a + b\n",
    "\n",
    "@pytest.mark.parametrize('i,j', [(0,0),(1,8),(-4,-9)]\n",
    "def test_multi_add(i,j): # This function runs three times with (i,j) = (0,0), (i,j) = (1,8) and (i,j) = (-4,-9)\n",
    "    assert add(i,j) == i+j, 'Something is wrong'"
   ]
  },
  {
   "cell_type": "code",
   "execution_count": null,
   "id": "10144ba2-e887-4554-afcf-a3fa810b7681",
   "metadata": {},
   "outputs": [],
   "source": [
    "# Example with fixture\n",
    "import pytest\n",
    "\n",
    "@pytest.fixture\n",
    "def value():        # Fixture - prepare data used in tests\n",
    "    return 3\n",
    "\n",
    "def test_add(value):\n",
    "    assert add(1,2) == value, 'Something is wrong'"
   ]
  },
  {
   "cell_type": "markdown",
   "id": "86b69213-4a8b-4866-a277-2575868cf307",
   "metadata": {},
   "source": [
    "### Program distribution"
   ]
  },
  {
   "cell_type": "markdown",
   "id": "e08d550a-7fda-4a8f-a6c0-760f4799042c",
   "metadata": {},
   "source": [
    "Software in Python can be distributed\n",
    "- as series of *.py* files ( source codes )\n",
    "- as a binary for a target platform\n",
    "- *freezing* - procedure that converts *.py* file(s) to binary\n",
    "- many modules for freezing\n",
    "  - *pyInstaller* ( https://www.pyinstaller.org/ )\n",
    "  - *cx_Freeze* ( https://cx-freeze.readthedocs.io/en/latest/ )\n",
    "- how to freeze your code\n",
    "  - start dedicated command ( *pyinstaller*, *cxfreeze*)\n",
    "  - control freezing process by *setup.py*"
   ]
  },
  {
   "cell_type": "markdown",
   "id": "cbb1be10-e388-43ad-9f91-248a57e09146",
   "metadata": {},
   "source": [
    "#### *setup.py* example\n",
    "- run *python setup.py build* ( creates *EXE* or *ELF* based on platform )\n",
    "- run *python setup.py bdist_msi* ( simple *MSI* installer for MS Windows platform )"
   ]
  },
  {
   "cell_type": "code",
   "execution_count": null,
   "id": "43fb8521-7725-489d-b104-c7ae73d37bfa",
   "metadata": {},
   "outputs": [],
   "source": [
    "import sys\n",
    "from cx_Freeze import setup, Executable\n",
    "\n",
    "# Dependencies are automatically detected, but it might need fine tuning.\n",
    "# \"packages\": [\"os\"] is used as example only\n",
    "build_exe_options = {\"packages\": [\"os\"], \"excludes\": [\"tkinter\"]}\n",
    "\n",
    "# base=\"Win32GUI\" should be used only for Windows GUI app\n",
    "base = None\n",
    "if sys.platform == \"win32\":\n",
    "    base = \"Win32GUI\"\n",
    "\n",
    "setup(\n",
    "    name = \"guifoo\",\n",
    "    version = \"0.1\",\n",
    "    description = \"My GUI application!\",\n",
    "    options = {\"build_exe\": build_exe_options},\n",
    "    executables = [Executable(\"guifoo.py\", base=base)]\n",
    ")"
   ]
  }
 ],
 "metadata": {
  "kernelspec": {
   "display_name": "Python 3 (ipykernel)",
   "language": "python",
   "name": "python3"
  },
  "language_info": {
   "codemirror_mode": {
    "name": "ipython",
    "version": 3
   },
   "file_extension": ".py",
   "mimetype": "text/x-python",
   "name": "python",
   "nbconvert_exporter": "python",
   "pygments_lexer": "ipython3",
   "version": "3.10.4"
  }
 },
 "nbformat": 4,
 "nbformat_minor": 5
}
