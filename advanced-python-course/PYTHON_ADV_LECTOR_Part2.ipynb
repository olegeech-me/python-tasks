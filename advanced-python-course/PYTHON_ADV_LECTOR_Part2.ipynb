{
 "cells": [
  {
   "cell_type": "markdown",
   "metadata": {},
   "source": [
    "# PYTHON_ADV - Part 2"
   ]
  },
  {
   "cell_type": "code",
   "execution_count": null,
   "metadata": {},
   "outputs": [],
   "source": [
    "print(\"Welcome to PYTHON_ADV - Part 2\")"
   ]
  },
  {
   "cell_type": "markdown",
   "metadata": {},
   "source": [
    "### How to define class in Python\n",
    "- *class* keyword\n",
    "- as instance of *type*"
   ]
  },
  {
   "cell_type": "code",
   "execution_count": null,
   "metadata": {},
   "outputs": [],
   "source": [
    "# Classic class definition\n",
    "\n",
    "class Person:\n",
    "    pass\n",
    "\n",
    "p = Person()\n",
    "\n",
    "# Dynamic class definition\n",
    "# type(classname, parents(tuple), methods(dictionary))\n",
    "\n",
    "Person = type('Person', (object,), {})\n",
    "\n",
    "p = Person()\n",
    "\n",
    "# Classic class definition\n",
    "\n",
    "class Person:\n",
    "    def __init__(self,jmeno):\n",
    "        self.jmeno = jmeno\n",
    "        \n",
    "# Dynamic class definition\n",
    "\n",
    "def myinit(self, name):\n",
    "    self.name = name\n",
    "\n",
    "Person = type('Person', (object,), {'__init__': myinit})"
   ]
  },
  {
   "cell_type": "markdown",
   "metadata": {},
   "source": [
    "### Metaclasses\n",
    "- objects are instances of classes\n",
    "- classes are instances of metaclasses"
   ]
  },
  {
   "cell_type": "markdown",
   "metadata": {},
   "source": [
    "<img src=\"https://th.bing.com/th/id/R.65d2a7c41f6962eed773c6ca9c45f2d5?rik=o1j86s%2flXiFHCg&riu=http%3a%2f%2fi.stack.imgur.com%2fQQ0OK.png&ehk=aJUnmCVdto%2fbaTZULT57HfbWgqR%2bWO1PVM3hphVmcls%3d&risl=&pid=ImgRaw&r=0\"/>"
   ]
  },
  {
   "cell_type": "code",
   "execution_count": 26,
   "metadata": {},
   "outputs": [
    {
     "name": "stdout",
     "output_type": "stream",
     "text": [
      "Creating class User\n",
      "Found method: __init__\n",
      "Found method: print\n",
      "Found method: __sub__\n",
      "Number of parents is 0\n",
      "Creating class Employee\n",
      "Number of parents is 1\n",
      "Creating class Next\n",
      "Number of parents is 2\n"
     ]
    },
    {
     "ename": "TypeError",
     "evalue": "Multiple inheritance is not supported",
     "output_type": "error",
     "traceback": [
      "\u001b[1;31m---------------------------------------------------------------------------\u001b[0m",
      "\u001b[1;31mTypeError\u001b[0m                                 Traceback (most recent call last)",
      "Input \u001b[1;32mIn [26]\u001b[0m, in \u001b[0;36m<cell line: 27>\u001b[1;34m()\u001b[0m\n\u001b[0;32m     24\u001b[0m \u001b[38;5;28;01mclass\u001b[39;00m \u001b[38;5;21;01mEmployee\u001b[39;00m(User):\n\u001b[0;32m     25\u001b[0m     \u001b[38;5;28;01mpass\u001b[39;00m\n\u001b[1;32m---> 27\u001b[0m \u001b[38;5;28;01mclass\u001b[39;00m \u001b[38;5;21;01mNext\u001b[39;00m(\u001b[38;5;28mstr\u001b[39m,User):\n\u001b[0;32m     28\u001b[0m     \u001b[38;5;28;01mpass\u001b[39;00m\n",
      "Input \u001b[1;32mIn [26]\u001b[0m, in \u001b[0;36mController.__new__\u001b[1;34m(cls, name, parents, content)\u001b[0m\n\u001b[0;32m      9\u001b[0m \u001b[38;5;28mprint\u001b[39m(\u001b[38;5;124m'\u001b[39m\u001b[38;5;124mNumber of parents is\u001b[39m\u001b[38;5;124m'\u001b[39m,\u001b[38;5;28mlen\u001b[39m(parents))\n\u001b[0;32m     11\u001b[0m \u001b[38;5;28;01mif\u001b[39;00m \u001b[38;5;28mlen\u001b[39m(parents) \u001b[38;5;241m>\u001b[39m \u001b[38;5;241m1\u001b[39m:\n\u001b[1;32m---> 12\u001b[0m     \u001b[38;5;28;01mraise\u001b[39;00m \u001b[38;5;167;01mTypeError\u001b[39;00m(\u001b[38;5;124m'\u001b[39m\u001b[38;5;124mMultiple inheritance is not supported\u001b[39m\u001b[38;5;124m'\u001b[39m)\n\u001b[0;32m     14\u001b[0m \u001b[38;5;28;01mreturn\u001b[39;00m \u001b[38;5;28msuper\u001b[39m()\u001b[38;5;241m.\u001b[39m\u001b[38;5;21m__new__\u001b[39m(\u001b[38;5;28mcls\u001b[39m, name, parents, content)\n",
      "\u001b[1;31mTypeError\u001b[0m: Multiple inheritance is not supported"
     ]
    }
   ],
   "source": [
    "class Controller(type):\n",
    "    def __new__(cls, name, parents, content): # Contructor of classes\n",
    "        print('Creating class',name)\n",
    "        if len(name) <= 3:\n",
    "            raise TypeError('Class name is too short')\n",
    "        for name,value in content.items():\n",
    "            if callable(value):\n",
    "                print('Found method:',name)\n",
    "        print('Number of parents is',len(parents))\n",
    "        \n",
    "        if len(parents) > 1:\n",
    "            raise TypeError('Multiple inheritance is not supported')\n",
    "        \n",
    "        return super().__new__(cls, name, parents, content)\n",
    "    \n",
    "class User(metaclass=Controller):\n",
    "    def __init__(self):\n",
    "        pass\n",
    "    def print(self):\n",
    "        pass\n",
    "    def __sub__(self,number):\n",
    "        pass\n",
    "    \n",
    "class Employee(User):\n",
    "    pass\n",
    "\n",
    "class Next(str,User):\n",
    "    pass"
   ]
  },
  {
   "cell_type": "code",
   "execution_count": null,
   "metadata": {},
   "outputs": [],
   "source": [
    "class MetaClass(type):\n",
    "    def __new__(cls, *args, **kwargs):\n",
    "        return type.__new__(cls, *args, **kwargs)\n",
    "    \n",
    "class Person(metaclass=MetaClass):\n",
    "    def __init__(self, name):\n",
    "        self.name = name\n",
    "    def print(self):\n",
    "        print(f'Name is {self.name}')"
   ]
  },
  {
   "cell_type": "code",
   "execution_count": 29,
   "metadata": {},
   "outputs": [
    {
     "name": "stdout",
     "output_type": "stream",
     "text": [
      "()\n",
      "{}\n",
      "()\n",
      "{'h': '28'}\n",
      "(1, 3, 2, 4)\n",
      "{}\n",
      "(1, 2, 3)\n",
      "{'h': 23, 'delta': 'd'}\n"
     ]
    }
   ],
   "source": [
    "def fn(*args, **kwargs):\n",
    "    print(args)\n",
    "    print(kwargs)\n",
    "    pass\n",
    "\n",
    "fn()\n",
    "fn(h='28')\n",
    "fn(1,3,2,4)\n",
    "fn(1,2,3,h=23,delta='d')"
   ]
  },
  {
   "cell_type": "markdown",
   "metadata": {},
   "source": [
    "### Quick exercise\n",
    "- Create metaclass 'ChildProtector'\n",
    "- Metaclass requires that all classes begin with an uppercase character ( NameError )\n",
    "- Metaclass requires that all classes implement 'ident' method"
   ]
  },
  {
   "cell_type": "code",
   "execution_count": 40,
   "metadata": {},
   "outputs": [
    {
     "ename": "ValueError",
     "evalue": "There is a need for ident method",
     "output_type": "error",
     "traceback": [
      "\u001b[1;31m---------------------------------------------------------------------------\u001b[0m",
      "\u001b[1;31mValueError\u001b[0m                                Traceback (most recent call last)",
      "Input \u001b[1;32mIn [40]\u001b[0m, in \u001b[0;36m<cell line: 24>\u001b[1;34m()\u001b[0m\n\u001b[0;32m     21\u001b[0m     \u001b[38;5;28;01mdef\u001b[39;00m \u001b[38;5;21mident\u001b[39m(\u001b[38;5;28mself\u001b[39m):\n\u001b[0;32m     22\u001b[0m         \u001b[38;5;28;01mpass\u001b[39;00m\n\u001b[1;32m---> 24\u001b[0m \u001b[38;5;28;01mclass\u001b[39;00m \u001b[38;5;21;01mXelp\u001b[39;00m(Help):\n\u001b[0;32m     25\u001b[0m     \u001b[38;5;28;01mpass\u001b[39;00m\n",
      "Input \u001b[1;32mIn [40]\u001b[0m, in \u001b[0;36mChildProtector.__new__\u001b[1;34m(cls, name, parents, content)\u001b[0m\n\u001b[0;32m     13\u001b[0m         valid \u001b[38;5;241m=\u001b[39m \u001b[38;5;28;01mTrue\u001b[39;00m\n\u001b[0;32m     15\u001b[0m \u001b[38;5;28;01mif\u001b[39;00m \u001b[38;5;129;01mnot\u001b[39;00m valid:\n\u001b[1;32m---> 16\u001b[0m     \u001b[38;5;28;01mraise\u001b[39;00m \u001b[38;5;167;01mValueError\u001b[39;00m(\u001b[38;5;124m'\u001b[39m\u001b[38;5;124mThere is a need for ident method\u001b[39m\u001b[38;5;124m'\u001b[39m)\n\u001b[0;32m     18\u001b[0m \u001b[38;5;28;01mreturn\u001b[39;00m \u001b[38;5;28msuper\u001b[39m()\u001b[38;5;241m.\u001b[39m\u001b[38;5;21m__new__\u001b[39m(\u001b[38;5;28mcls\u001b[39m, name, parents, content)\n",
      "\u001b[1;31mValueError\u001b[0m: There is a need for ident method"
     ]
    }
   ],
   "source": [
    "import string\n",
    "\n",
    "class ChildProtector(type):\n",
    "    def __new__(cls, name, parents, content):\n",
    "        \n",
    "        if name[0] not in string.ascii_uppercase:\n",
    "            raise ValueError('Invalid class name')\n",
    "            \n",
    "        valid = False    \n",
    "        \n",
    "        for name,value in content.items():\n",
    "            if name == 'ident' and callable(value):\n",
    "                valid = True\n",
    "                \n",
    "        if not valid:\n",
    "            raise ValueError('There is a need for ident method')\n",
    "        \n",
    "        return super().__new__(cls, name, parents, content)\n",
    "    \n",
    "class Help(metaclass=ChildProtector):\n",
    "    def ident(self):\n",
    "        pass\n",
    "    \n",
    "class Xelp(Help):\n",
    "    pass"
   ]
  },
  {
   "cell_type": "markdown",
   "metadata": {},
   "source": [
    "### Working with code\n",
    "- Use code as data"
   ]
  },
  {
   "cell_type": "code",
   "execution_count": 47,
   "metadata": {},
   "outputs": [
    {
     "name": "stdout",
     "output_type": "stream",
     "text": [
      "calling function: add\n",
      "9\n",
      "calling function: <lambda>\n",
      "-7\n"
     ]
    },
    {
     "ename": "TypeError",
     "evalue": "invalid number of arguments",
     "output_type": "error",
     "traceback": [
      "\u001b[1;31m---------------------------------------------------------------------------\u001b[0m",
      "\u001b[1;31mTypeError\u001b[0m                                 Traceback (most recent call last)",
      "Input \u001b[1;32mIn [47]\u001b[0m, in \u001b[0;36m<cell line: 23>\u001b[1;34m()\u001b[0m\n\u001b[0;32m     21\u001b[0m \u001b[38;5;28mprint\u001b[39m(execute(add, \u001b[38;5;241m1\u001b[39m,\u001b[38;5;241m8\u001b[39m))\n\u001b[0;32m     22\u001b[0m \u001b[38;5;28mprint\u001b[39m(execute(\u001b[38;5;28;01mlambda\u001b[39;00m x,y:x\u001b[38;5;241m-\u001b[39my, \u001b[38;5;241m1\u001b[39m, \u001b[38;5;241m8\u001b[39m))\n\u001b[1;32m---> 23\u001b[0m \u001b[38;5;28mprint\u001b[39m(\u001b[43mexecute\u001b[49m\u001b[43m(\u001b[49m\u001b[43mneg\u001b[49m\u001b[43m,\u001b[49m\u001b[43m \u001b[49m\u001b[38;5;241;43m1\u001b[39;49m\u001b[43m,\u001b[49m\u001b[43m \u001b[49m\u001b[38;5;241;43m8\u001b[39;49m\u001b[43m)\u001b[49m)\n",
      "Input \u001b[1;32mIn [47]\u001b[0m, in \u001b[0;36mexecute\u001b[1;34m(code, a, b)\u001b[0m\n\u001b[0;32m     12\u001b[0m     \u001b[38;5;28;01mraise\u001b[39;00m \u001b[38;5;167;01mTypeError\u001b[39;00m(\u001b[38;5;124m'\u001b[39m\u001b[38;5;124mnot executable\u001b[39m\u001b[38;5;124m'\u001b[39m)\n\u001b[0;32m     14\u001b[0m \u001b[38;5;28;01mif\u001b[39;00m code\u001b[38;5;241m.\u001b[39m\u001b[38;5;18m__code__\u001b[39m\u001b[38;5;241m.\u001b[39mco_argcount \u001b[38;5;241m!=\u001b[39m \u001b[38;5;241m2\u001b[39m:\n\u001b[1;32m---> 15\u001b[0m     \u001b[38;5;28;01mraise\u001b[39;00m \u001b[38;5;167;01mTypeError\u001b[39;00m(\u001b[38;5;124m'\u001b[39m\u001b[38;5;124minvalid number of arguments\u001b[39m\u001b[38;5;124m'\u001b[39m)\n\u001b[0;32m     17\u001b[0m \u001b[38;5;28mprint\u001b[39m(\u001b[38;5;124m'\u001b[39m\u001b[38;5;124mcalling function:\u001b[39m\u001b[38;5;124m'\u001b[39m,code\u001b[38;5;241m.\u001b[39m\u001b[38;5;18m__name__\u001b[39m)\n\u001b[0;32m     19\u001b[0m \u001b[38;5;28;01mreturn\u001b[39;00m code(a, b)\n",
      "\u001b[1;31mTypeError\u001b[0m: invalid number of arguments"
     ]
    }
   ],
   "source": [
    "# __code__ attribute\n",
    "\n",
    "def add(a,b):\n",
    "    'Functions sums two numbers'\n",
    "    return a + b\n",
    "\n",
    "def neg(a):\n",
    "    return -a\n",
    "\n",
    "def execute(code, a, b):\n",
    "    if not callable(code):\n",
    "        raise TypeError('not executable')\n",
    "        \n",
    "    if code.__code__.co_argcount != 2:\n",
    "        raise TypeError('invalid number of arguments')\n",
    "        \n",
    "    print('calling function:',code.__name__)\n",
    "        \n",
    "    return code(a, b)\n",
    "\n",
    "print(execute(add, 1,8))\n",
    "print(execute(lambda x,y:x-y, 1, 8))\n",
    "print(execute(neg, 1, 8))"
   ]
  },
  {
   "cell_type": "code",
   "execution_count": 48,
   "metadata": {},
   "outputs": [
    {
     "name": "stdout",
     "output_type": "stream",
     "text": [
      "{'add': <function add at 0x000002A49CF6F130>, 'sub': <function <lambda> at 0x000002A49D01F520>, 'mul': <__main__.Multiply object at 0x000002A49B4E2BC0>}\n",
      "Calling function add: 6\n",
      "Calling function sub: -2\n",
      "Calling function mul: 8\n"
     ]
    }
   ],
   "source": [
    "# Functions can be in collections\n",
    "\n",
    "registry = dict()\n",
    "\n",
    "def add(a,b):\n",
    "    return a + b\n",
    "\n",
    "class Multiply:\n",
    "    def __call__(self, a, b):\n",
    "        return a * b\n",
    "\n",
    "registry['add'] = add                 # Function\n",
    "registry['sub'] = lambda a,b: a - b   # Lambda\n",
    "registry['mul'] = Multiply()          # Functor\n",
    "\n",
    "print(registry)\n",
    "\n",
    "for key in registry.keys():\n",
    "    print(f'Calling function {key}: {registry[key](2,4)}')\n"
   ]
  },
  {
   "cell_type": "markdown",
   "metadata": {},
   "source": [
    "### Quick exercise\n",
    "- Create function register(registry, code)\n",
    "- 'registry' is a dictionary\n",
    "- 'code' must be a function with exactly two parameters !!! ( ValueError otherwise )\n",
    "- 'register' append fuction 'code' to 'registry'. If 'code' is already there, then print warning\n",
    "- list all fuctions from 'registry' in alphabet order"
   ]
  },
  {
   "cell_type": "markdown",
   "metadata": {},
   "source": [
    "### Types in Python\n",
    "- metadata about fuction parameter's types and return values\n",
    "- *typing* module - type hints"
   ]
  },
  {
   "cell_type": "code",
   "execution_count": 49,
   "metadata": {},
   "outputs": [
    {
     "name": "stdout",
     "output_type": "stream",
     "text": [
      "{'a': <class 'int'>, 'b': <class 'int'>, 'return': <class 'int'>}\n",
      "11\n"
     ]
    },
    {
     "ename": "TypeError",
     "evalue": "can only concatenate str (not \"bool\") to str",
     "output_type": "error",
     "traceback": [
      "\u001b[1;31m---------------------------------------------------------------------------\u001b[0m",
      "\u001b[1;31mTypeError\u001b[0m                                 Traceback (most recent call last)",
      "Input \u001b[1;32mIn [49]\u001b[0m, in \u001b[0;36m<cell line: 8>\u001b[1;34m()\u001b[0m\n\u001b[0;32m      5\u001b[0m \u001b[38;5;28mprint\u001b[39m(add\u001b[38;5;241m.\u001b[39m\u001b[38;5;18m__annotations__\u001b[39m)\n\u001b[0;32m      7\u001b[0m \u001b[38;5;28mprint\u001b[39m(add(\u001b[38;5;241m1\u001b[39m,\u001b[38;5;241m10\u001b[39m))         \u001b[38;5;66;03m# types are OK\u001b[39;00m\n\u001b[1;32m----> 8\u001b[0m \u001b[38;5;28mprint\u001b[39m(\u001b[43madd\u001b[49m\u001b[43m(\u001b[49m\u001b[38;5;124;43m'\u001b[39;49m\u001b[38;5;124;43mabc\u001b[39;49m\u001b[38;5;124;43m'\u001b[39;49m\u001b[43m,\u001b[49m\u001b[38;5;28;43;01mTrue\u001b[39;49;00m\u001b[43m)\u001b[49m)   \u001b[38;5;66;03m# types are not OK, but still executable\u001b[39;00m\n\u001b[0;32m     10\u001b[0m \u001b[38;5;28;01mimport\u001b[39;00m \u001b[38;5;21;01mtyping\u001b[39;00m\n\u001b[0;32m     12\u001b[0m Vector \u001b[38;5;241m=\u001b[39m typing\u001b[38;5;241m.\u001b[39mList[\u001b[38;5;28mfloat\u001b[39m]    \u001b[38;5;66;03m# List of floating point numbers\u001b[39;00m\n",
      "Input \u001b[1;32mIn [49]\u001b[0m, in \u001b[0;36madd\u001b[1;34m(a, b)\u001b[0m\n\u001b[0;32m      1\u001b[0m \u001b[38;5;28;01mdef\u001b[39;00m \u001b[38;5;21madd\u001b[39m(a: \u001b[38;5;28mint\u001b[39m, b: \u001b[38;5;28mint\u001b[39m) \u001b[38;5;241m-\u001b[39m\u001b[38;5;241m>\u001b[39m \u001b[38;5;28mint\u001b[39m:\n\u001b[0;32m      2\u001b[0m     \u001b[38;5;124m'\u001b[39m\u001b[38;5;124mFunction sums two numbers\u001b[39m\u001b[38;5;124m'\u001b[39m\n\u001b[1;32m----> 3\u001b[0m     \u001b[38;5;28;01mreturn\u001b[39;00m \u001b[43ma\u001b[49m\u001b[43m \u001b[49m\u001b[38;5;241;43m+\u001b[39;49m\u001b[43m \u001b[49m\u001b[43mb\u001b[49m\n",
      "\u001b[1;31mTypeError\u001b[0m: can only concatenate str (not \"bool\") to str"
     ]
    }
   ],
   "source": [
    "def add(a: int, b: int) -> int:\n",
    "    'Function sums two numbers'\n",
    "    return a + b\n",
    "\n",
    "print(add.__annotations__)\n",
    "\n",
    "print(add(1,10))         # types are OK\n",
    "print(add('abc',True))   # types are not OK, but still executable\n",
    "\n",
    "import typing\n",
    "\n",
    "Vector = typing.List[float]    # List of floating point numbers\n",
    "\n",
    "def scale(scalar: float, vstup: Vector) -> Vector:\n",
    "    return vstup\n",
    "\n",
    "scale(2.0, [1.0, 3.4, 5.6])\n",
    "\n",
    "UserId = typing.NewType('UserId', int) # We can define new types\n",
    "some_id = UserId(12342)"
   ]
  },
  {
   "cell_type": "code",
   "execution_count": 54,
   "metadata": {},
   "outputs": [
    {
     "name": "stdout",
     "output_type": "stream",
     "text": [
      "3\n",
      "-5\n"
     ]
    }
   ],
   "source": [
    "def add(a,b):\n",
    "    return a + b\n",
    "\n",
    "def neg(a):\n",
    "    return -a\n",
    "\n",
    "def call(code, *numbers):\n",
    "    return code(*numbers)\n",
    "\n",
    "print(call(add,1,2))\n",
    "print(call(neg,5))"
   ]
  },
  {
   "cell_type": "markdown",
   "metadata": {},
   "source": [
    "### Nested functions and closures\n",
    "- nested function - function defined inside another function\n",
    "- closure - function that remembers variables"
   ]
  },
  {
   "cell_type": "code",
   "execution_count": 55,
   "metadata": {},
   "outputs": [
    {
     "name": "stdout",
     "output_type": "stream",
     "text": [
      "primary: called\n",
      "nested: called, data = Hello\n"
     ]
    }
   ],
   "source": [
    "def primary(somedata):                             # generic function\n",
    "    \"\"\"primary function\"\"\"\n",
    "    print(\"primary: called\")\n",
    "    def nested():                                  # nested function\n",
    "        \"\"\"nested function\"\"\"\n",
    "        print(\"nested: called, data =\", somedata)\n",
    "    nested()\n",
    "\n",
    "primary(\"Hello\")"
   ]
  },
  {
   "cell_type": "code",
   "execution_count": 56,
   "metadata": {},
   "outputs": [
    {
     "name": "stdout",
     "output_type": "stream",
     "text": [
      "nested data = Hello\n",
      "supernested: data = Hello\n"
     ]
    }
   ],
   "source": [
    "def primary(somedata):                             \n",
    "    \"\"\"primary function\"\"\"\n",
    "    def nested():\n",
    "        \"\"\"nested function\"\"\"\n",
    "        print(\"nested data =\", somedata)\n",
    "        def supernested():\n",
    "            \"\"\"supernested function\"\"\"\n",
    "            print(\"supernested: data =\", somedata)\n",
    "        supernested()\n",
    "    nested()\n",
    "    \n",
    "primary(\"Hello\")"
   ]
  },
  {
   "cell_type": "code",
   "execution_count": 18,
   "metadata": {},
   "outputs": [
    {
     "name": "stdout",
     "output_type": "stream",
     "text": [
      "Hello:Python\n",
      "Hello:Perl\n"
     ]
    }
   ],
   "source": [
    "def init(somedata):                          # generic function\n",
    "    def nested(nextdata):                    # closure - somedata variable can be used here\n",
    "        return somedata + \":\" + nextdata\n",
    "    return nested                            \n",
    "\n",
    "enc = init(\"Hello\")    # somedata = 'Hello'                      \n",
    "print(enc(\"Python\"))   # nextdata = 'Python'                       \n",
    "print(enc(\"Perl\"))     # nextdata = 'Perl'                     "
   ]
  },
  {
   "cell_type": "code",
   "execution_count": 67,
   "metadata": {},
   "outputs": [
    {
     "name": "stdout",
     "output_type": "stream",
     "text": [
      "108\n"
     ]
    }
   ],
   "source": [
    "number = 8 # Heap - global\n",
    "\n",
    "def fn():\n",
    "    x = 28  # local\n",
    "    global number\n",
    "    number += 100\n",
    "    print(number)\n",
    "    \n",
    "fn()"
   ]
  },
  {
   "cell_type": "code",
   "execution_count": null,
   "metadata": {},
   "outputs": [],
   "source": [
    "x = 188 # Global\n",
    "\n",
    "def init(start,step):                        # initialization function\n",
    "    \"\"\"Init function\"\"\"\n",
    "    zz = 28 # nonlocal\n",
    "    def get():  # closure\n",
    "        yy = 28             # Local\n",
    "        global start\n",
    "        start += step                        # try to modify 'start': NOT ALLOWED !!!\n",
    "        return start\n",
    "    return get\n",
    "\n",
    "d = init(10,2)\n",
    "print(d())"
   ]
  },
  {
   "cell_type": "code",
   "execution_count": 71,
   "metadata": {},
   "outputs": [
    {
     "name": "stdout",
     "output_type": "stream",
     "text": [
      "13\n",
      "16\n",
      "19\n"
     ]
    }
   ],
   "source": [
    "def init(start,step):                        # initialization function\n",
    "    \"\"\"init function\"\"\"\n",
    "    def better_get():                        # closure\n",
    "        \"\"\"closure\"\"\"\n",
    "        nonlocal start                       # 'unlock' variable\n",
    "        start += step                        # now we can modify it\n",
    "        return start\n",
    "    return better_get\n",
    "\n",
    "enc = init(10,3)                             \n",
    "print(enc())                                 # 13\n",
    "print(enc())                                 # 16\n",
    "print(enc())"
   ]
  },
  {
   "cell_type": "code",
   "execution_count": 61,
   "metadata": {},
   "outputs": [
    {
     "name": "stdout",
     "output_type": "stream",
     "text": [
      "-1\n",
      "2\n",
      "3\n"
     ]
    }
   ],
   "source": [
    "def factory(operation):\n",
    "    def plus(a,b):\n",
    "        return a + b\n",
    "    def minus(a,b):\n",
    "        return a - b\n",
    "    reg = {'+': plus, '-': minus}\n",
    "    return reg[operation]\n",
    "\n",
    "p = factory('-')\n",
    "print(p(1,2))\n",
    "print(p(10,8))\n",
    "\n",
    "plus = factory('+')\n",
    "print(plus(1,2))"
   ]
  },
  {
   "cell_type": "markdown",
   "metadata": {},
   "source": [
    "### Quick exercise\n",
    "- Create closure that decorates strings"
   ]
  },
  {
   "cell_type": "code",
   "execution_count": 77,
   "metadata": {},
   "outputs": [
    {
     "name": "stdout",
     "output_type": "stream",
     "text": [
      "<class 'function'>\n",
      "internal\n",
      "1\n",
      ">>> PYTHON(6) <<<\n",
      ">>> PERL(4) <<<\n"
     ]
    }
   ],
   "source": [
    "def decorator(prefix, suffix):\n",
    "     def internal(string):\n",
    "            return f'{prefix} {string}({len(string)}) {suffix}'\n",
    "     return internal\n",
    "    \n",
    "dec = decorator('>>>','<<<')\n",
    "\n",
    "print(type(dec))\n",
    "print(dec.__name__)\n",
    "print(dec.__code__.co_argcount)\n",
    "\n",
    "print(dec('PYTHON')) # >>> PYTHON(6) <<<\n",
    "print(dec('PERL')) # >>> PERL(4) <<<"
   ]
  },
  {
   "cell_type": "code",
   "execution_count": 80,
   "metadata": {},
   "outputs": [
    {
     "name": "stdout",
     "output_type": "stream",
     "text": [
      "23\n"
     ]
    },
    {
     "data": {
      "text/plain": [
       "'abcxyz'"
      ]
     },
     "execution_count": 80,
     "metadata": {},
     "output_type": "execute_result"
    }
   ],
   "source": [
    "def fn(number):       # Ordinary function\n",
    "    print(number)\n",
    "    \n",
    "def gn(code):         # high-order function\n",
    "    return code()\n",
    "\n",
    "def hn(code1, code2): # high-order function\n",
    "    return code1() + code2()\n",
    "    \n",
    "fn(23)\n",
    "\n",
    "gn(lambda:'hello')\n",
    "hn(lambda:'abc', lambda:'xyz')"
   ]
  },
  {
   "cell_type": "markdown",
   "metadata": {},
   "source": [
    "### Olegeech: higher order function example\n"
   ]
  },
  {
   "cell_type": "code",
   "execution_count": 17,
   "metadata": {},
   "outputs": [
    {
     "name": "stdout",
     "output_type": "stream",
     "text": [
      "Function 'hello' was called with 'Vasya!'\n",
      "Hello Vasya!\n"
     ]
    }
   ],
   "source": [
    "def outer(fn):\n",
    "  def inner(arg):\n",
    "    print(f\"Function '{fn.__name__}' was called with '{arg}'\")\n",
    "    fn(arg)\n",
    "  return inner\n",
    "\n",
    "def hello(user):\n",
    "  print(\"Hello\", user)\n",
    "\n",
    "hello = outer(hello)\n",
    "hello(\"Vasya!\")\n"
   ]
  },
  {
   "cell_type": "markdown",
   "metadata": {},
   "source": [
    "### Functors\n",
    "- You can use functors instead of closures"
   ]
  },
  {
   "cell_type": "code",
   "execution_count": null,
   "metadata": {},
   "outputs": [],
   "source": [
    "class TestFunctor:\n",
    "    def __init__(self,start,step):\n",
    "        self.start = start\n",
    "        self.step  = step\n",
    "        \n",
    "    def __call__(self):\n",
    "        tmpval = self.start\n",
    "        self.start += self.step\n",
    "        return tmpval\n",
    "    \n",
    "tf = TestFunctor(10,20)              # create functor\n",
    "\n",
    "if callable(tf):                     # is callable ? YESSSS\n",
    "    print(\"Ok,\",tf,\" is callable\")\n",
    "\n",
    "print(tf())                          # call it - 10\n",
    "print(tf())                          # call it - 30\n",
    "\n",
    "for c in tf:\n",
    "    print(c)\n"
   ]
  },
  {
   "cell_type": "code",
   "execution_count": null,
   "metadata": {},
   "outputs": [],
   "source": [
    "def add(a,b):\n",
    "    print('running add')\n",
    "    return a + b\n",
    "\n",
    "def sub(a,b):\n",
    "    print('running sub')\n",
    "    return a - b"
   ]
  },
  {
   "cell_type": "markdown",
   "metadata": {},
   "source": [
    "### Decorators\n",
    "- decorator - function that modified/impoves another function"
   ]
  },
  {
   "cell_type": "markdown",
   "metadata": {},
   "source": [
    "#### Decorators without parameters"
   ]
  },
  {
   "cell_type": "code",
   "execution_count": 106,
   "metadata": {},
   "outputs": [
    {
     "name": "stdout",
     "output_type": "stream",
     "text": [
      "Running function greeting\n",
      "DEBUG: start\n",
      "Hello from Python!\n",
      "DEBUG: stop\n"
     ]
    }
   ],
   "source": [
    "from functools import wraps\n",
    "\n",
    "def debug(fn): # high-order function\n",
    "#    @wraps(fn)\n",
    "    def internal(*args, **kwargs):\n",
    "        print('DEBUG: start')\n",
    "        ret = fn(*args, **kwargs)\n",
    "        print('DEBUG: stop')\n",
    "        return ret\n",
    "    internal.__name__ = fn.__name__\n",
    "    return internal\n",
    "\n",
    "@debug # greeting = debug(greeting)\n",
    "def greeting():\n",
    "    print('Hello from Python!')\n",
    "    \n",
    "\n",
    "def process(function):\n",
    "    print('Running function',function.__name__)\n",
    "    function()\n",
    "    \n",
    "process(greeting)"
   ]
  },
  {
   "cell_type": "code",
   "execution_count": 105,
   "metadata": {},
   "outputs": [
    {
     "name": "stdout",
     "output_type": "stream",
     "text": [
      "Hello from Python!\n",
      "Hello from Python!\n"
     ]
    }
   ],
   "source": [
    "def runit(fn):\n",
    "    fn()\n",
    "    return fn\n",
    "\n",
    "@runit # greeting = runit(greeting)\n",
    "def greeting():\n",
    "    print('Hello from Python!')\n",
    "    \n",
    "greeting()"
   ]
  },
  {
   "cell_type": "markdown",
   "metadata": {},
   "source": [
    "#### Quick exercise\n",
    "- Create decorator 'twice' that runs function two times\n",
    "- In decorated fucntion there will be 'count' variable with value of 2"
   ]
  },
  {
   "cell_type": "code",
   "execution_count": 111,
   "metadata": {},
   "outputs": [
    {
     "name": "stdout",
     "output_type": "stream",
     "text": [
      "hello\n",
      "hello\n",
      "2\n",
      "from internal\n",
      "hello\n"
     ]
    }
   ],
   "source": [
    "def twice(fn):\n",
    "    fn()\n",
    "    fn()\n",
    "    \n",
    "    def internal():\n",
    "        print('from internal')\n",
    "    \n",
    "    fn.count = 2\n",
    "    fn.code = internal\n",
    "    return fn\n",
    "\n",
    "@twice # fn = twice(fn)\n",
    "def greeter():\n",
    "    print('hello')\n",
    "    \n",
    "print(greeter.count) # 2\n",
    "greeter.code()\n",
    "\n",
    "greeter()"
   ]
  },
  {
   "cell_type": "markdown",
   "metadata": {},
   "source": [
    "#### Decorators with parameters"
   ]
  },
  {
   "cell_type": "code",
   "execution_count": 115,
   "metadata": {},
   "outputs": [
    {
     "name": "stdout",
     "output_type": "stream",
     "text": [
      "sub\n",
      "15\n"
     ]
    }
   ],
   "source": [
    "from functools import wraps\n",
    "def fix(delta): # Ordinary function - \n",
    "    def internal(fn): # High order function\n",
    "        @wraps(fn)\n",
    "        def subinternal(a,b): # New version of fn\n",
    "            return fn(a,b) + delta\n",
    "        return subinternal\n",
    "    return internal\n",
    "\n",
    "def simplefix(fn): # High order function\n",
    "    @wraps(fn)\n",
    "    def internal(a,b): # New version of fn\n",
    "        return fn(a,b) + 20\n",
    "    return internal\n",
    "\n",
    "#   f = fix(10)  f -> internal\n",
    "#   sub = f(fn)  sub -> subiternal\n",
    "#\n",
    "\n",
    "@fix(10)           # sub = fix(10)(sub)\n",
    "def sub(a,b):      # sub(a,b) + 10\n",
    "    return a - b\n",
    "\n",
    "#@simplefix\n",
    "#def sub(a,b):\n",
    "#    return a - b\n",
    "\n",
    "print(sub.__name__)\n",
    "\n",
    "print(sub(10,5)) # 10 - 5 + 10 = 15"
   ]
  },
  {
   "cell_type": "code",
   "execution_count": 118,
   "metadata": {},
   "outputs": [
    {
     "name": "stdout",
     "output_type": "stream",
     "text": [
      "{}\n",
      "Registering function: sub\n",
      "result = <function sub at 0x000002A49D0AF640>\n",
      "result = -2\n"
     ]
    }
   ],
   "source": [
    "register = {}\n",
    "\n",
    "def registerFunction(func):   \n",
    "    print(\"Registering function:\",func.__name__)\n",
    "    register[func.__name__] = func\n",
    "    return func\n",
    "\n",
    "@registerFunction  # add = registerFunction(add)  \n",
    "def add(a,b):\n",
    "    return a + b\n",
    "\n",
    "@registerFunction  # sub = registerFunction(sub)\n",
    "def sub(a,b):\n",
    "    return a - b\n",
    "\n",
    "print(register)\n",
    "\n",
    "result = sub(1,3)                                  \n",
    "print(\"result =\",result)\n",
    "\n",
    "\n",
    "result = register['sub'](1,3)                        \n",
    "print(\"result =\",result)\n"
   ]
  },
  {
   "cell_type": "code",
   "execution_count": null,
   "metadata": {},
   "outputs": [],
   "source": [
    "import time\n",
    "\n",
    "def timer(func):                           # useful decorator - stopwatch\n",
    "    def internal(*args, **kwargs):\n",
    "        start = time.time()\n",
    "        result = func(*args, **kwargs)\n",
    "        stop  = time.time()\n",
    "        print(\"timer: function\",func.__name__,\"took\", round(stop - start,4),\" second(s)\")\n",
    "        return result\n",
    "    return internal\n",
    "\n",
    "@timer\n",
    "def fib(n):\n",
    "    if n < 2:\n",
    "        return n\n",
    "    return fib(n-1) + fib(n-2)\n",
    "\n",
    "print(fib(6))\n"
   ]
  },
  {
   "cell_type": "code",
   "execution_count": 120,
   "metadata": {},
   "outputs": [
    {
     "name": "stdout",
     "output_type": "stream",
     "text": [
      "3\n",
      "7\n",
      "yes, function is countable, #calls = 2\n"
     ]
    }
   ],
   "source": [
    "class Counter:                                 # Functor can be decorator, too :-)\n",
    "    def __init__(self,func):\n",
    "        self.func = func\n",
    "        self.func.counter = 0\n",
    "        \n",
    "    def __call__(self,*args, **kwargs):\n",
    "        self.func.counter += 1\n",
    "        return self.func(*args, **kwargs)\n",
    "    \n",
    "    @property\n",
    "    def counter(self):\n",
    "        return self.func.counter\n",
    "    \n",
    "@Counter           # add = Counter(add)\n",
    "def add(a,b):         \n",
    "    return a + b\n",
    "\n",
    "print(add(1,2))\n",
    "print(add(3,4))\n",
    "\n",
    "if hasattr(add, \"counter\"):\n",
    "    print(\"yes, function is countable, #calls =\",add.counter)"
   ]
  },
  {
   "cell_type": "markdown",
   "metadata": {},
   "source": [
    "#### Decorator on classes"
   ]
  },
  {
   "cell_type": "code",
   "execution_count": 135,
   "metadata": {},
   "outputs": [
    {
     "name": "stdout",
     "output_type": "stream",
     "text": [
      "Patching method: __init__\n",
      "Patching method: __del__\n",
      "Patching method: add\n",
      "Patching method: sub\n",
      "Patching method: mul\n",
      "Patching method: div\n",
      "DEBUG: calling __init__\n",
      "creating object\n",
      "<class 'type'>\n",
      "<class '__main__.Math'>\n",
      "DEBUG: calling add\n",
      "DEBUG: calling __del__\n",
      "destroying object\n"
     ]
    }
   ],
   "source": [
    "def debug(fn):\n",
    "    def internal(*args):\n",
    "        print(f'DEBUG: calling {fn.__name__}')\n",
    "        return fn(*args)\n",
    "    return internal\n",
    "\n",
    "class Math:\n",
    "    @debug\n",
    "    def add(self,a,b):\n",
    "        return a + b\n",
    "    \n",
    "    @debug\n",
    "    def sub(self,a,b):\n",
    "        return a - b\n",
    "    \n",
    "    @debug\n",
    "    def mul(self,a,b):\n",
    "        return a * b\n",
    "    \n",
    "    @debug\n",
    "    def div(self,a,b):\n",
    "        return a / b\n",
    "    \n",
    "# Better solution - class decorator\n",
    "\n",
    "def debugall(skipMagic=False):\n",
    "    def internal(cls):\n",
    "        for name,value in vars(cls).items():\n",
    "            if callable(value):\n",
    "                if skipMagic and name.startswith('__'):\n",
    "                    print(f'Skipping magic method:',name)\n",
    "                    continue\n",
    "                print(f'Patching method: {name}')\n",
    "                setattr(cls, name, debug(value))\n",
    "        return cls\n",
    "    return internal\n",
    "    \n",
    "\n",
    "@debugall()    # Math = debugall(Math)\n",
    "class Math:\n",
    "    def __init__(self):\n",
    "        print('creating object')\n",
    "        \n",
    "    def __del__(self):\n",
    "        print('destroying object')\n",
    "        \n",
    "    def add(self,a,b):\n",
    "        return a + b\n",
    "  \n",
    "    def sub(self,a,b):\n",
    "        return a - b\n",
    "    \n",
    "   \n",
    "    def mul(self,a,b):\n",
    "        return a * b\n",
    "     \n",
    "    def div(self,a,b):\n",
    "        return a / b\n",
    "    \n",
    "    \n",
    "    \n",
    "m = Math()\n",
    "print(type(Math))\n",
    "print(type(m))\n",
    "m.add(1,28)\n",
    "del m"
   ]
  },
  {
   "cell_type": "code",
   "execution_count": 126,
   "metadata": {},
   "outputs": [
    {
     "name": "stdout",
     "output_type": "stream",
     "text": [
      "Decorating class Math\n",
      "Found method __init__\n",
      "Found method add\n",
      "Found method mul\n",
      "object initialization ...\n",
      "3\n"
     ]
    }
   ],
   "source": [
    "def decor(cls):\n",
    "    print('Decorating class',cls.__name__)\n",
    "    for key,value in vars(cls).items():\n",
    "        if callable(value):\n",
    "            print('Found method',key)\n",
    "    return cls\n",
    "\n",
    "@decor # Math = decor(Math)\n",
    "class Math:\n",
    "    def __init__(self):\n",
    "        print('object initialization ...')\n",
    "    def add(self,a,b):\n",
    "        return a + b\n",
    "    def mul(self,a,b):\n",
    "        return a * b\n",
    "    \n",
    "m = Math()\n",
    "print(m.add(1,2))"
   ]
  },
  {
   "cell_type": "code",
   "execution_count": 140,
   "metadata": {},
   "outputs": [
    {
     "name": "stdout",
     "output_type": "stream",
     "text": [
      "3\n"
     ]
    }
   ],
   "source": [
    "class Math:\n",
    "    \n",
    "    @staticmethod\n",
    "    def add(a,b):\n",
    "        return a + b\n",
    "    \n",
    "    #add = staticmethod(add)\n",
    "\n",
    "    @classmethod\n",
    "    def info(cls):\n",
    "        pass\n",
    "    \n",
    "    #info = classmethod(info)\n",
    "    \n",
    "print(Math.add(1,2))\n",
    "Math.info()"
   ]
  },
  {
   "cell_type": "code",
   "execution_count": 147,
   "metadata": {},
   "outputs": [
    {
     "name": "stdout",
     "output_type": "stream",
     "text": [
      "debugging add\n",
      "timer: internal_from_debug\n"
     ]
    }
   ],
   "source": [
    "def timer(fn):\n",
    "    print('timer:',fn.__name__)\n",
    "    def internal_from_timer(a,b):\n",
    "        return fn(a,b)\n",
    "    return internal_from_timer\n",
    "\n",
    "def debug(fn):\n",
    "    print('debugging',fn.__name__)\n",
    "    def internal_from_debug(a,b):\n",
    "        return fn(a,b)\n",
    "    return internal_from_debug\n",
    "\n",
    "@timer           # add = timer(debug(add))\n",
    "@debug\n",
    "def add(a,b):\n",
    "    return a + b"
   ]
  },
  {
   "cell_type": "markdown",
   "metadata": {},
   "source": [
    "### Recursion\n",
    "- function that calls itself\n",
    "- it is necessary to define end condition\n",
    "\n",
    "Example: factorial\n",
    "\n",
    "*N! = N*(N-1)!*\n",
    "\n",
    "*0! = 1*          End condition\n",
    "\n",
    "Example: sum of numbers\n",
    "\n",
    "*SUMA(N) = N + SUMA(N-1)*\n",
    "\n",
    "*SUMA(0) = 0*    End condition"
   ]
  },
  {
   "cell_type": "code",
   "execution_count": 148,
   "metadata": {},
   "outputs": [
    {
     "name": "stdout",
     "output_type": "stream",
     "text": [
      "3628800\n"
     ]
    }
   ],
   "source": [
    "def fact(n):\n",
    "    return n if n <= 1 else n*fact(n-1) # Ternary operator\n",
    "\n",
    "print(fact(10))"
   ]
  },
  {
   "cell_type": "markdown",
   "metadata": {},
   "source": [
    "### Quick exercise\n",
    "- define recursive function length(string) - functions returns string's length\n",
    "- define recursive function palindrome(string) - functions checks if string is a palindrome"
   ]
  },
  {
   "cell_type": "code",
   "execution_count": 156,
   "metadata": {},
   "outputs": [
    {
     "data": {
      "text/plain": [
       "False"
      ]
     },
     "execution_count": 156,
     "metadata": {},
     "output_type": "execute_result"
    }
   ],
   "source": [
    "def length(string):\n",
    "    '''\n",
    "    length('') = 0\n",
    "    '''\n",
    "    return 0 if len(string) == 0 else 1 + length(string[1:])\n",
    "\n",
    "def palindrome(string):\n",
    "    if len(string) <= 1:\n",
    "        return True\n",
    "    return False if string[0] != string[-1] else palindrome(string[1:-1])"
   ]
  },
  {
   "cell_type": "markdown",
   "metadata": {},
   "source": [
    "### Functional programming\n",
    "- process data with functions without modifications\n",
    "- no side effects ( idempotency )\n",
    "- _functools_, _itertools_, _operator_ modules"
   ]
  },
  {
   "cell_type": "code",
   "execution_count": 157,
   "metadata": {},
   "outputs": [
    {
     "name": "stdout",
     "output_type": "stream",
     "text": [
      "len(data) = 11\n"
     ]
    }
   ],
   "source": [
    "data = \"This is the line with some short and vvvvverrrry loooooonnnnnnnng words\".split(\" \")\n",
    "print(\"len(data) =\",len(data))"
   ]
  },
  {
   "cell_type": "code",
   "execution_count": 158,
   "metadata": {},
   "outputs": [
    {
     "name": "stdout",
     "output_type": "stream",
     "text": [
      "['is', 'the', 'and']\n",
      "['is', 'the', 'and']\n"
     ]
    }
   ],
   "source": [
    "shortwords = filter(lambda word:len(word) <= 3, data)  # filter() selects data based on code       \n",
    "print(list(shortwords))\n",
    "\n",
    "class WordFilter:                                             \n",
    "    def __init__(self,maxlen):\n",
    "        self.maxlen = maxlen\n",
    "        \n",
    "    def __call__(self,word):\n",
    "        return True if len(word) <= self.maxlen else False\n",
    "\n",
    "\n",
    "shortwords = filter(WordFilter(3), data)                     \n",
    "print(list(shortwords))"
   ]
  },
  {
   "cell_type": "code",
   "execution_count": 159,
   "metadata": {},
   "outputs": [
    {
     "name": "stdout",
     "output_type": "stream",
     "text": [
      "['This', 'is', 'the', 'line', 'with', 'some', 'short', 'and', 'vvvvverrrry', 'loooooonnnnnnnng', 'words']\n",
      "['This(4)', 'is(2)', 'the(3)', 'line(4)', 'with(4)', 'some(4)', 'short(5)', 'and(3)', 'vvvvverrrry(11)', 'loooooonnnnnnnng(16)', 'words(5)']\n"
     ]
    }
   ],
   "source": [
    "print(data)\n",
    "newdata = map(lambda word:word + \"(\" + str(len(word)) + \")\", data) # map() applies code to each element\n",
    "print(list(newdata))"
   ]
  },
  {
   "cell_type": "code",
   "execution_count": 9,
   "metadata": {},
   "outputs": [
    {
     "name": "stdout",
     "output_type": "stream",
     "text": [
      "a,b,c,d,e,f,g\n",
      "<class 'function'>\n",
      "<class 'function'>\n"
     ]
    }
   ],
   "source": [
    "from functools import reduce                                    # reduce\n",
    "\n",
    "data = \"abcdefg\"\n",
    "\n",
    "singlestring = reduce(lambda a,b:a + \",\" + b, data)             \n",
    "print(singlestring)                                             # principle  \n",
    "\n",
    "def fn():\n",
    "    pass                                                                #         a,b,c -> a op b, c -> (a op b) op c\n",
    "\n",
    "print(type(fn))\n",
    "print(fn.__class__)"
   ]
  },
  {
   "cell_type": "code",
   "execution_count": null,
   "metadata": {},
   "outputs": [],
   "source": [
    "def fib(n):                              # not very good, too expensive\n",
    "    if n < 2:\n",
    "        return n\n",
    "    return fib(n-1) + fib(n-2)\n",
    "\n",
    "for i in range(0,40):\n",
    "    print(\"fib(\",i,\")=\",fib(i))"
   ]
  },
  {
   "cell_type": "code",
   "execution_count": null,
   "metadata": {},
   "outputs": [],
   "source": [
    "from functools import lru_cache          # LRU cache\n",
    "\n",
    "    \n",
    "@lru_cache(maxsize=10)                # LRU cache with 10 slots\n",
    "def fib(n):                             # better now\n",
    "    if n < 2:\n",
    "        return n\n",
    "    return fib(n-1) + fib(n-2)\n",
    "\n",
    "for i in range(0,100):\n",
    "    print(\"fib(\",i,\")=\",fib(i))\n",
    "    \n",
    "print(\"cache stat:\", fib.cache_info())  # get cache stats\n"
   ]
  },
  {
   "cell_type": "code",
   "execution_count": null,
   "metadata": {},
   "outputs": [],
   "source": [
    "from functools import reduce\n",
    "import operator\n",
    "\n",
    "def add(a,b):                                 # helping function\n",
    "    return a + b\n",
    "\n",
    "class Add():                                  # helping functor\n",
    "    def __call__(self,a,b):\n",
    "        return a + b\n",
    "\n",
    "numbers = list(range(1,10))                   # list of numbers 1 .... 9\n",
    "total   = reduce(lambda a,b:a+b, numbers)     # reduce using lambda\n",
    "total   = reduce(add, numbers)                # reduce using function\n",
    "total   = reduce(Add(), numbers)              # reduce using functor\n",
    "total   = reduce(operator.add, numbers)       # reduce using add function from operator module"
   ]
  },
  {
   "cell_type": "markdown",
   "metadata": {},
   "source": [
    "### Logical expressions"
   ]
  },
  {
   "cell_type": "code",
   "execution_count": null,
   "metadata": {},
   "outputs": [],
   "source": [
    "# Legacy\n",
    "\n",
    "size = 18\n",
    "\n",
    "if size == 18:\n",
    "    print('ok')\n",
    "else:\n",
    "    print('not ok')\n",
    "\n",
    "# Logical expression\n",
    "\n",
    "print('ok' if size == 18 else 'not ok')\n",
    "\n",
    "# and even shorter version\n",
    "# 1 -> True ( second element )\n",
    "# 0 -> False ( first element )\n",
    "\n",
    "('ok','not ok')[size != 18]"
   ]
  },
  {
   "cell_type": "markdown",
   "metadata": {},
   "source": [
    "### Data persistence\n",
    "- How to store objects/data to persistent place\n",
    "- Where to store data\n",
    "  1. databases ( SQL, NoSQL )\n",
    "  2. files ( serialization/deserialization )\n",
    "  3. send to a different location over TCP/IP ( RPC, Socket API, ZeroMQ, Nanomsg )"
   ]
  },
  {
   "cell_type": "markdown",
   "metadata": {},
   "source": [
    "#### Storing/Loading objects to/from file\n",
    "- *pickle* module\n",
    "- files will be binary"
   ]
  },
  {
   "cell_type": "code",
   "execution_count": null,
   "metadata": {},
   "outputs": [],
   "source": [
    "family = {\n",
    "    'father': {\n",
    "        'age': 38,\n",
    "        'name': 'Jirka'\n",
    "    },\n",
    "    'mother': {\n",
    "        'age': 36,\n",
    "        'name': 'Vera'\n",
    "    },\n",
    "    'children': [\n",
    "        {\n",
    "            'age': 12,\n",
    "            'name': 'Petr'\n",
    "        },\n",
    "        {\n",
    "            'age': 14,\n",
    "            'name': 'Petra'\n",
    "        }\n",
    "    ]\n",
    "}"
   ]
  },
  {
   "cell_type": "code",
   "execution_count": null,
   "metadata": {},
   "outputs": [],
   "source": [
    "import pickle\n",
    "\n",
    "# Serialization\n",
    "with open('family.db', 'wb') as storage:\n",
    "    pickle.dump(family, storage)\n",
    "    \n",
    "del family\n",
    "\n",
    "family = dict()\n",
    "\n",
    "# Deserialiazation\n",
    "with open('family.db', 'rb') as storage:\n",
    "    family = pickle.load(storage)\n",
    "    \n",
    "print(family)   "
   ]
  },
  {
   "cell_type": "code",
   "execution_count": null,
   "metadata": {},
   "outputs": [],
   "source": [
    "data = {'a':100, 'b':200}\n",
    "transport = pickle.dumps(data)\n",
    "data = pickle.loads(transport)\n",
    "print(data)"
   ]
  },
  {
   "cell_type": "markdown",
   "metadata": {},
   "source": [
    "#### Persistent dictionary\n",
    "- *shelve* module\n",
    "- key/value file-based database"
   ]
  },
  {
   "cell_type": "code",
   "execution_count": null,
   "metadata": {},
   "outputs": [],
   "source": [
    "import shelve\n",
    "\n",
    "data = shelve.open('data.db')\n",
    "data['one'] = 'jedna'\n",
    "\n",
    "print(data.keys())\n",
    "\n",
    "data.close()"
   ]
  },
  {
   "cell_type": "markdown",
   "metadata": {},
   "source": [
    "#### Working with JSON\n",
    "- *json* module\n",
    "- interface similar to *pickle*\n",
    "- only built-in types are supported "
   ]
  },
  {
   "cell_type": "code",
   "execution_count": null,
   "metadata": {},
   "outputs": [],
   "source": [
    "class Test():\n",
    "    def __init__(self):\n",
    "        self.x = 100\n",
    "        self.file = open('datafile.txt')\n",
    "\n",
    "data = Test()\n",
    "\n",
    "import json\n",
    "\n",
    "# Serialization\n",
    "with open('data.json', 'w') as storage:\n",
    "    json.dump(data.__dict__, storage)\n",
    "\n",
    "# Deserialization\n",
    "with open('data.json', 'r') as storage:\n",
    "    data = json.load(storage)\n",
    "       "
   ]
  },
  {
   "cell_type": "markdown",
   "metadata": {},
   "source": [
    "#### Working with CSV\n",
    "- *csv* module"
   ]
  },
  {
   "cell_type": "code",
   "execution_count": null,
   "metadata": {},
   "outputs": [],
   "source": [
    "import csv\n",
    "\n",
    "data = [1,2,3,4]\n",
    "\n",
    "# Serialization\n",
    "with open('data.csv', 'w') as storage:\n",
    "    writer = csv.writer(storage, delimiter=',')\n",
    "    writer.writerow(data)\n",
    "\n",
    "# Deserialization\n",
    "with open('data.csv', 'r') as storage:\n",
    "    reader = csv.reader(storage, delimiter=',')\n",
    "    for radek in reader:\n",
    "        print(radek)\n",
    "    "
   ]
  },
  {
   "cell_type": "markdown",
   "metadata": {
    "tags": []
   },
   "source": [
    "### Scripts\n",
    "- Files with Python code ( with *.py* extension )\n",
    "- command line parameters - sys.argv )\n",
    "- *#!* - specify Python interpreter\n",
    "- use script as a module\n",
    "- use different I/O channels in scripts\n",
    "- script return value"
   ]
  },
  {
   "cell_type": "code",
   "execution_count": null,
   "metadata": {},
   "outputs": [],
   "source": [
    "#!/usr/bin/python3\n",
    "\n",
    "def main():\n",
    "    print('hello')\n",
    "    \n",
    "if __name__ == '__main__':      # Run main(), but only when used as a script, not a module\n",
    "    main()"
   ]
  },
  {
   "cell_type": "markdown",
   "metadata": {},
   "source": [
    "#### Example: print content of a file"
   ]
  },
  {
   "cell_type": "code",
   "execution_count": null,
   "metadata": {},
   "outputs": [],
   "source": [
    "#!/usr/bin/python3\n",
    "import sys, os\n",
    "\n",
    "def usage():                       # Helper method\n",
    "    'Helper method'\n",
    "    print('Usage: reader.py filename', file=sys.stderr)\n",
    "\n",
    "if __name__ != '__main__':        # Protect this script from being used as module\n",
    "    print('Sorry, this is not a module', file=sys.stderr)\n",
    "    sys.exit(1)\n",
    "\n",
    "if len(sys.argv) != 2:            # Check command line arguments\n",
    "    usage()\n",
    "    sys.exit(1)\n",
    "    \n",
    "filename = sys.argv[-1]\n",
    "\n",
    "if not os.path.exists(filename): # Check file presence\n",
    "    print(f'File {filename} does not exist', file=sys.stderr)\n",
    "    sys.exit(1)\n",
    "\n",
    "with open(filename) as source:  # Process file\n",
    "    print(filename.readlines(), end='')\n"
   ]
  }
 ],
 "metadata": {
  "interpreter": {
   "hash": "6bd5b6da27f1d6c2c3ccf7ba62382417fc1652bd016754c3ce32a78cc0b19565"
  },
  "kernelspec": {
   "display_name": "Python 3.8.10 64-bit ('3.8.10')",
   "language": "python",
   "name": "python3"
  },
  "language_info": {
   "codemirror_mode": {
    "name": "ipython",
    "version": 3
   },
   "file_extension": ".py",
   "mimetype": "text/x-python",
   "name": "python",
   "nbconvert_exporter": "python",
   "pygments_lexer": "ipython3",
   "version": "3.8.10"
  }
 },
 "nbformat": 4,
 "nbformat_minor": 4
}
