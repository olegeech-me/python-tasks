{
 "cells": [
  {
   "cell_type": "markdown",
   "id": "6fd09e02-a40e-4764-8aba-316a874fe7dc",
   "metadata": {},
   "source": [
    "# PYTHON_ADV #"
   ]
  },
  {
   "cell_type": "markdown",
   "id": "a2abcf5e-b9ae-4cfc-9cd8-5aead4b7aeb1",
   "metadata": {},
   "source": [
    "## Course details\n",
    "\n",
    "Schedule\n",
    "- mo - thu ( 9am - 12am & 1pm - 4pm )\n",
    "- fri ( 9am - 12am )\n",
    "- project hour ( 3pm - 4pm )\n",
    "- lunch break: 12am - 1pm\n",
    "- 2x coffee break, about 15 minutes"
   ]
  },
  {
   "cell_type": "code",
   "execution_count": null,
   "id": "af361529-8223-4f36-8f36-fde33e556104",
   "metadata": {},
   "outputs": [],
   "source": [
    "print('Hello')"
   ]
  },
  {
   "cell_type": "markdown",
   "id": "868bfa99-060b-45e8-8040-b74bea0ee2d1",
   "metadata": {},
   "source": [
    "## Content"
   ]
  },
  {
   "cell_type": "markdown",
   "id": "993bd6a5-453e-4e90-b1e6-471c61607542",
   "metadata": {},
   "source": [
    "### 0. Data types review\n",
    "- collections ( *list*, *tuple*, *set*, *frozenset*, *dict* )\n",
    "- type casting\n",
    "- exceptions\n",
    "\n",
    "### 1. OOP\n",
    "\n",
    "- Introduction to OOP\n",
    "- Magic methods\n",
    "- Inheritance, polymorphism\n",
    "- Propertis\n",
    "- Static methods\n",
    "- Data classes\n",
    "\n",
    "### 2. Advanced Python constructs\n",
    "- Generators and Iterators\n",
    "- Generator notation\n",
    "- Decorators\n",
    "\n",
    "### 3. Functional programming in Python\n",
    "- Lambda constructs\n",
    "- Anonymout functions, first-class functions,\n",
    "  recursion, closures, ...\n",
    "- Map, reduce, filter\n",
    "- Logical expressions\n",
    "\n",
    "### 4. Scripting\n",
    "- How to write Python scripts\n",
    "\n",
    "### 5. Standard Python Library\n",
    "- Selected modules from standard library\n",
    "- PyPi repository\n",
    "- pip\n",
    "\n",
    "### 6. CPython and his alternatives\n",
    "- Basic CPython properties\n",
    "- Virtual environments\n",
    "- PyPy, Jython, IronPython\n",
    "- Python in web browser, Brython\n",
    "- Program distribution ( Pyinstaller, cx_Freeze, ... )\n",
    "\n",
    "### 7. Data persistence\n",
    "- Modules for data persistence ( pickle, JSON, ... )\n",
    "- pickle\n",
    "- shelve\n",
    "- json \n",
    "- csv\n",
    "\n",
    "### 8. Testing in Python \n",
    "- Test Driven Development a how to use it\n",
    "- Writing tests\n",
    "- pytest module"
   ]
  },
  {
   "cell_type": "code",
   "execution_count": null,
   "id": "a13f396b-bec1-4fdc-971f-2838c8d4e07b",
   "metadata": {},
   "outputs": [],
   "source": [
    "print(\"Welcome to PYTHON_ADV\")"
   ]
  },
  {
   "cell_type": "markdown",
   "id": "33e4177e-43ca-467c-ada6-2505d19aab12",
   "metadata": {},
   "source": [
    "## Python philosophy"
   ]
  },
  {
   "cell_type": "code",
   "execution_count": null,
   "id": "0fedeff1-f6ee-4235-8945-76cdd78f0f80",
   "metadata": {},
   "outputs": [],
   "source": [
    "import this"
   ]
  },
  {
   "cell_type": "markdown",
   "id": "4e261117-acc0-4bda-b11d-259022860234",
   "metadata": {},
   "source": [
    "### 0. Python overview"
   ]
  },
  {
   "cell_type": "markdown",
   "id": "5199695a-27a1-4025-a989-47df424b72ae",
   "metadata": {},
   "source": [
    "Multiple paradigmas\n",
    "\n",
    "- Procedural\n",
    "- Object oriented\n",
    "- Functional\n",
    "- Reflective"
   ]
  },
  {
   "cell_type": "markdown",
   "id": "1f100ece-b089-4ce5-9556-1418e77a4152",
   "metadata": {},
   "source": [
    "#### Data collections"
   ]
  },
  {
   "cell_type": "markdown",
   "id": "eb07adbe-1df7-4094-824e-e3ce04a6fb7e",
   "metadata": {
    "tags": []
   },
   "source": [
    "#### List\n",
    "\n",
    "- basic data collection, *[]* brackets\n",
    "- mutable\n",
    "- elements can be different types"
   ]
  },
  {
   "cell_type": "code",
   "execution_count": null,
   "id": "be6deab5-842c-4340-9fdf-e0693848c9a1",
   "metadata": {},
   "outputs": [],
   "source": [
    "l1 = [1,2,3,4]           # list\n",
    "print(l1)                # printing\n",
    "print(type(l1))          # get type\n",
    "\n",
    "l1 = []                  # empty list\n",
    "l1 = list()              # empty list\n",
    "length = len(l1)         # number of elements\n",
    "l1.sort()                # apply method ( sort )"
   ]
  },
  {
   "cell_type": "markdown",
   "id": "16f64873-d4af-4e49-8ba4-dbc27c346812",
   "metadata": {},
   "source": [
    "#### Tuple\n",
    "- immutable collection of elements, *()* brackets\n",
    "- elements can be different types"
   ]
  },
  {
   "cell_type": "code",
   "execution_count": null,
   "id": "d16833d5-12b8-49af-a102-c2f71f070f0f",
   "metadata": {},
   "outputs": [],
   "source": [
    "l2 = (1,2,3,4)           # tuple\n",
    "l2 = 1,2,3,4             # the same\n",
    "print(l2)                # printing\n",
    "print(type(l2))          # print type\n",
    "\n",
    "l2 = ()                  # empty tuple \n",
    "l2 = tuple()             # empty tuple\n",
    "\n",
    "l2 = (1,)                # single element tuple\n",
    "dir(l2)"
   ]
  },
  {
   "cell_type": "markdown",
   "id": "4a6e96e1-086b-473a-8d1a-df9e9df26e2b",
   "metadata": {},
   "source": [
    "#### Set\n",
    "- collection of unique elements, *{}* brackets\n",
    "- no index, no specific order of elements"
   ]
  },
  {
   "cell_type": "code",
   "execution_count": null,
   "id": "53f5c2c2-e1cb-490a-a01a-8a417de15bcb",
   "metadata": {},
   "outputs": [],
   "source": [
    "l3 = {'a','b','c'}       # set of numbers\n",
    "print(l3)                # printing\n",
    "print(type(l3))          # print type\n",
    "\n",
    "l3 = {}                  # empty set\n",
    "l3 = set()               # empty set\n",
    "\n",
    "l3 = {'a', 'b', 'b', 'c', 'a'}  \n",
    "print(l3)"
   ]
  },
  {
   "cell_type": "markdown",
   "id": "e3342ef9-2264-45ca-ae6a-41a1693125f8",
   "metadata": {},
   "source": [
    "#### Frozen Set\n",
    "- read-only set"
   ]
  },
  {
   "cell_type": "code",
   "execution_count": null,
   "id": "ef7d4a1f-f44e-41b9-8c75-f7b37212da5b",
   "metadata": {},
   "outputs": [],
   "source": [
    "l3 = frozenset(['a','b','c'])         \n",
    "print(l3)                \n",
    "print(type(l3))          \n",
    "\n",
    "l3 = frozenset()               # empty frozen set\n",
    "\n",
    "l3 = frozenset(['a', 'b', 'b', 'c', 'a'])     \n",
    "print(l3)"
   ]
  },
  {
   "cell_type": "markdown",
   "id": "5f8eb78b-5ffe-49b5-b92f-721e10e0e22f",
   "metadata": {},
   "source": [
    "#### Dictionary\n",
    "- associate data with keys\n",
    "- collection of pairs ( key - value )\n",
    "- keys must be immutable data type ( string, number, .. )\n",
    "- Python 3.7+ ( dictionaries are ordered )"
   ]
  },
  {
   "cell_type": "code",
   "execution_count": null,
   "id": "2071b7af-dab4-4913-86da-9040bd8cce0c",
   "metadata": {},
   "outputs": [],
   "source": [
    "l4 = {'alfa':3,'beta':4,'gamma':1}     \n",
    "print(len(l4))                        \n",
    "print(l4)    \n",
    "\n",
    "print(l4['alfa']) # 3\n",
    "len(l4) # 3\n",
    "print(list(l4.keys()))  # ['alfa', 'beta', 'gamma']\n",
    "l4.values() # [3,4,1]\n",
    "l4.items()  #  [('alfa',3),('beta',4),('gamma',1)]\n",
    "\n",
    "matrix = {(1,0):12, (1,3):123}\n",
    "\n",
    "def getNumber(mat, row,col):\n",
    "    return mat.get((row,col), 0)\n",
    "\n",
    "print(getNumber(matrix, 0, 0))\n",
    "print(getNumber(matrix, 1, 3))\n"
   ]
  },
  {
   "cell_type": "markdown",
   "id": "d367309c-77d2-4d78-a54e-3a1470fbef4c",
   "metadata": {},
   "source": [
    "#### How to access elements in collection\n",
    "- indices and slices ( list, tuple )\n",
    "- negative indices ( numbered from end to the beginning  )\n",
    "- keys ( slovník )\n",
    "\n",
    "*collection[start_index:stop_index:step]*\n",
    "\n",
    "*start_index* default = 0 </br>\n",
    "*step* default = 1"
   ]
  },
  {
   "cell_type": "code",
   "execution_count": null,
   "id": "4c83a4b5-061b-483a-a5c8-e1dad2870e7e",
   "metadata": {},
   "outputs": [],
   "source": [
    "data = [1,2,3,4]\n",
    "data[0]             # first element\n",
    "data[-1]            # last element\n",
    "\n",
    "data[1:3]           # elements with indices 1 and 2\n",
    "data[1:]            # all elements except the first one\n",
    "data[:-1]           # all elements except the last one\n",
    "\n",
    "data[:]    # ?\n",
    "data[::-1] # ?\n",
    "\n",
    "data = {\"first\":1, \"second\":2, \"third\":3, \"fourth\":4}\n",
    "data[\"first\"]       # 1\n",
    "data[\"first\"] = 100 # element change ( 1 => 100 )"
   ]
  },
  {
   "cell_type": "markdown",
   "id": "5a6a6d81-86c0-409d-bffd-674aeff0152d",
   "metadata": {},
   "source": [
    "### Quick exercise\n",
    "- create a latin-greek dictionary\n",
    "- keys are latin letter ( a,b,c ..... z )\n",
    "- values are greek letter ( alfa, beta, gama, .... )\n",
    "- hint: modul string \n",
    "- hint: alfa letter is \\u03b1"
   ]
  },
  {
   "cell_type": "code",
   "execution_count": null,
   "id": "fcd4bbdc-8d96-408a-af12-9e81fec32581",
   "metadata": {},
   "outputs": [],
   "source": [
    "# 1. method ( classic )\n",
    "import string\n",
    "latin_greek = {}\n",
    "count = 0\n",
    "for latin in string.ascii_lowercase:\n",
    "    latin_greek[latin] = chr(ord('\\u03b1') + count)\n",
    "    count += 1\n",
    "    \n",
    "print(latin_greek)\n",
    "\n",
    "# 2. method ( dict comprehension )\n",
    "latin_greek = {latin:chr(ord('\\u03b1') + (ord(latin) - ord('a'))) for latin in string.ascii_lowercase}\n",
    "print(latin_greek)        "
   ]
  },
  {
   "cell_type": "markdown",
   "id": "3a5f519d-df72-437d-9e17-df8ffeeb8371",
   "metadata": {},
   "source": [
    "#### Type casting"
   ]
  },
  {
   "cell_type": "code",
   "execution_count": null,
   "id": "7a5b7a0c-0d0c-453b-b350-a75ed7fefa9e",
   "metadata": {},
   "outputs": [],
   "source": [
    "st = \"Welcome to Python !\"\n",
    "\n",
    "li = list(st)   # cast to list\n",
    "tu = tuple(st)  # cast to tuple\n",
    "se = set(st)    # cast to set\n",
    "#di = dict(st)  # not supportd in Python !!\n",
    "#int(st)        # not supported in Python !!\n",
    "\n",
    "\n",
    "print(st)\n",
    "print(li)\n",
    "print(tu)\n",
    "print(se)"
   ]
  },
  {
   "cell_type": "code",
   "execution_count": null,
   "id": "50b36370-6037-4945-92d8-9be0d3024d21",
   "metadata": {},
   "outputs": [],
   "source": [
    "data = input('Enter a number: ')\n",
    "count = int(data)\n",
    "print(count)"
   ]
  },
  {
   "cell_type": "markdown",
   "id": "236a219e-df0b-4883-babe-fc14952bd6c2",
   "metadata": {},
   "source": [
    "### String formatting\n",
    "Three methods\n",
    "- C like\n",
    "- *format()* method\n",
    "- f-strings ( Python 3.6+ )\n",
    "- *Jinja2* module"
   ]
  },
  {
   "cell_type": "code",
   "execution_count": null,
   "id": "66b4108c-f4fc-445a-9448-a84f1ef4fbbf",
   "metadata": {},
   "outputs": [],
   "source": [
    "# 1. C like\n",
    "x,y = 10,11\n",
    "\n",
    "print('sum is %d + %d = %d' % (x,y,x+y))\n",
    "\n",
    "# 2. format() method\n",
    "\n",
    "print('sum is {} + {} = {}'.format(x,y,x+y))\n",
    "\n",
    "# 3. F-Strings\n",
    "\n",
    "print(f'Sum is {x} + {y} = {x+y}') \n",
    "\n",
    "# 4. Jinja2 module\n",
    "import jinja2\n",
    "temp = jinja2.Template('Hello {{ name }}')\n",
    "temp.render(name='George')"
   ]
  },
  {
   "cell_type": "markdown",
   "id": "71f6a74e-6ee5-4b26-b64d-bcd671382fe4",
   "metadata": {},
   "source": [
    "### Error states\n",
    "How to deal with errors\n",
    "1. No handling\n",
    "2. Return values\n",
    "3. Exceptions"
   ]
  },
  {
   "cell_type": "code",
   "execution_count": null,
   "id": "662357d5-e84d-4ab9-9bd2-825774ca70e1",
   "metadata": {},
   "outputs": [],
   "source": [
    "# 1. No handling \n",
    "pocet = 'mnoho'\n",
    "pocet /= 7"
   ]
  },
  {
   "cell_type": "code",
   "execution_count": null,
   "id": "f329569b-4399-437f-bc60-d0ffcb68fa5c",
   "metadata": {},
   "outputs": [],
   "source": [
    "# 2. Test return values\n",
    "data = 'some input'\n",
    "\n",
    "if len(data) == 0:\n",
    "    print('Sorry, string is empty')"
   ]
  },
  {
   "cell_type": "code",
   "execution_count": null,
   "id": "ec3b646c-b944-41e7-908c-a8e493dbcf7d",
   "metadata": {},
   "outputs": [],
   "source": [
    "# 3. Exception\n",
    "\n",
    "count = 'many'\n",
    "\n",
    "# Basic exception handling\n",
    "try:\n",
    "    count /= 7\n",
    "except:\n",
    "    print('Something is wrong')\n",
    "    \n",
    "# We expect specific exception\n",
    "try:\n",
    "    count /= 7\n",
    "except TypeError:\n",
    "    print('Something is wrong')\n",
    "    \n",
    "# We need exception details\n",
    "try:\n",
    "    count /= 7\n",
    "except TypeError as exc:\n",
    "    print(f'Something is wrong: {exc}')\n",
    "    \n",
    "# More that one exeption cat be thrown\n",
    "\n",
    "var = '1,2,3'.split(',')\n",
    "\n",
    "try:\n",
    "    count /= 7\n",
    "    var[100] = 32\n",
    "except IndexError:\n",
    "    print('Index out of range')\n",
    "except TypeError:\n",
    "    print('Invalid data')\n",
    "    \n",
    "# or\n",
    "\n",
    "try:\n",
    "    pocet /= 7\n",
    "    var[100] = 32\n",
    "except (IndexError,TypeError) as exc:\n",
    "    print(f'Something is wrong: {exc}')\n",
    "        "
   ]
  },
  {
   "cell_type": "code",
   "execution_count": null,
   "id": "1f71424e-0ae0-4cc5-88b7-5941a4031012",
   "metadata": {},
   "outputs": [],
   "source": [
    "def div(x,y):\n",
    "    if y == 0:\n",
    "        raise ValueError('You are dividing by zero, you fool!!')\n",
    "    return x / y\n",
    "\n",
    "try:\n",
    "    print(div(10,0))\n",
    "except BaseException as exc:\n",
    "    print(f'Error: {exc}')"
   ]
  },
  {
   "cell_type": "markdown",
   "id": "baa06a3e-354e-480a-bac3-2c68d230dc6a",
   "metadata": {},
   "source": [
    "### Object Oriented Programming ( OOP )\n",
    "- Program as a group of objects\n",
    "- Each object contains \n",
    "  - data ( attributes )\n",
    "  - code ( methods )\n",
    "- class is a template for objects\n",
    "- three OOP pillars\n",
    "  - Encapsulation\n",
    "  - Polymorhism\n",
    "  - Inheritance\n",
    "- *self* parameter \n",
    "    - reference to itself"
   ]
  },
  {
   "cell_type": "code",
   "execution_count": null,
   "id": "4504ac1b-a9fc-48bf-be1f-c40bad59326f",
   "metadata": {},
   "outputs": [],
   "source": [
    "class A:         # trivial class\n",
    "    'Trivial class'\n",
    "    pass\n",
    "\n",
    "a = A()\n",
    "print(type(a))\n",
    "a.x = 100\n",
    "a.run = lambda x:x + 1\n",
    "\n",
    "print(a.x)\n",
    "print(a.run(100))\n",
    "\n",
    "print(a.__dict__)\n",
    "print(a.__doc__)\n",
    "\n",
    "# Special attributes: __doc__, __dict__, __name__,__module__,__bases__,__mro__"
   ]
  },
  {
   "cell_type": "code",
   "execution_count": null,
   "id": "668c6b17-f912-4f5d-9aa3-6a7e9296af24",
   "metadata": {},
   "outputs": [],
   "source": [
    "def compute(a,b):\n",
    "    'Fuction adds two numbers and returns the sum'\n",
    "    return a + b\n",
    "\n",
    "print(compute.__doc__)\n",
    "help(compute)"
   ]
  },
  {
   "cell_type": "code",
   "execution_count": null,
   "id": "fdd5dbae-dc16-44df-985d-32b2d14095cc",
   "metadata": {},
   "outputs": [],
   "source": [
    "class A:\n",
    "    pass\n",
    "\n",
    "x = A()\n",
    "x.size = 100\n",
    "x.print = lambda self,a:print(self.a)\n",
    "print(x.__dict__)\n",
    "\n",
    "y = A()\n",
    "x.length = 28\n"
   ]
  },
  {
   "cell_type": "code",
   "execution_count": null,
   "id": "4dd1092b-eb5f-46b8-812f-59625ff52324",
   "metadata": {},
   "outputs": [],
   "source": [
    "class B:\n",
    "    __slots__ = ['size']\n",
    "    \n",
    "x = B()\n",
    "x.size = 140\n",
    "x.print = lambda self,a: print(self.a)\n",
    "print(x.__slots__)"
   ]
  },
  {
   "cell_type": "code",
   "execution_count": null,
   "id": "9325748f-f2c9-4469-be16-bcf758d31ab6",
   "metadata": {},
   "outputs": [],
   "source": [
    "s = 'abc' # class str: __slots__ []\n",
    "s.size = 133\n",
    "print(type(s))"
   ]
  },
  {
   "cell_type": "code",
   "execution_count": null,
   "id": "6d1536a8-4ee9-42e3-8daa-3530c6bc6d00",
   "metadata": {},
   "outputs": [],
   "source": [
    "class B:       \n",
    "    'Simple class'\n",
    "    def __init__(self,b):          # object initialization ( \"magická metoda\")\n",
    "        'Initialization'\n",
    "        self.b = b\n",
    "    def set(self,newb):            # setter method\n",
    "        'Setter'\n",
    "        self.b = newb\n",
    "    def get(self):                 # getter method\n",
    "        'Getter'\n",
    "        return self.b\n",
    "    \n",
    "x = B(10) # B.__init__(x, 10)\n",
    "print(x.get())   # B.get(x)\n",
    "x.set(100) # B.set(x, 100)\n",
    "print(x.get())"
   ]
  },
  {
   "cell_type": "code",
   "execution_count": null,
   "id": "17cce7a3-4e1d-4e8b-9f56-804cd4efe194",
   "metadata": {},
   "outputs": [],
   "source": [
    "class PositiveNumber:\n",
    "    'Class for positive numbers'\n",
    "    __slots__ = ['cislo']\n",
    "    def __init__(self,cislo):\n",
    "        self.cislo = cislo\n",
    "    def get(self):\n",
    "        return self.cislo\n",
    "    def set(self,cislo):\n",
    "        \n",
    "        if type(cislo) != type(1): # if not isinstance(cislo, int):\n",
    "            raise TypeError('Invalid data type')\n",
    "        \n",
    "        if cislo <= 0:\n",
    "            raise ValueError('Negative and zero numbers are not allowed')\n",
    "        self.cislo = cislo\n",
    "        \n",
    "c = PositiveNumber(1888)\n",
    "print(c.get())\n",
    "\n",
    "if c > 100:  # PositiveNumber.__gt__(c,100)\n",
    "\n"
   ]
  },
  {
   "cell_type": "markdown",
   "id": "aecd08b7-89de-4058-8471-4d67f987376b",
   "metadata": {},
   "source": [
    "#### Quick exercise\n",
    "- Create *User* class\n",
    "- Objects *User* have *name* attribute\n",
    "- Objects have *get* and *set* methods\n",
    "- *set* methods set name and translates first character to uppercase"
   ]
  },
  {
   "cell_type": "code",
   "execution_count": null,
   "id": "01adbfbe-2f13-4b24-8a3e-c9059e190d01",
   "metadata": {},
   "outputs": [],
   "source": [
    "class User:\n",
    "    def __init__(self,name):\n",
    "        self.name = name\n",
    "    def get(self):\n",
    "        return self.name\n",
    "    def set(self,name):\n",
    "        self.name = name.title()"
   ]
  },
  {
   "cell_type": "code",
   "execution_count": null,
   "id": "9864c871-11a5-44ed-a1c5-69be2f4e04ba",
   "metadata": {},
   "outputs": [],
   "source": [
    "u = User('egon') # User.__init__(u, 'geon')\n",
    "print(u.get()) # 'Egon'\n",
    "\n",
    "u = User('egon blau')\n",
    "print(u.get()) # 'Egon Blau'\n",
    "\n",
    "print(u.__dict__)\n",
    "print(u.get())"
   ]
  },
  {
   "cell_type": "markdown",
   "id": "bbb797b8-8553-4d85-b6da-be74931d3814",
   "metadata": {},
   "source": [
    "## Inheritance"
   ]
  },
  {
   "cell_type": "code",
   "execution_count": null,
   "id": "d63b9f5f-5591-496b-b78c-72f313ba2954",
   "metadata": {},
   "outputs": [],
   "source": [
    "class Car: # Parent, superclass\n",
    "    def __init__(self,color):\n",
    "        self.color = color\n",
    "    def get(self):\n",
    "        return self.color\n",
    "        \n",
    "class PersonalCar(Car): # PersonalCar is ('is a') a Car, child, subclass\n",
    "    def __init__(self,color,no_of_seats):\n",
    "        super().__init__(color) # or Car.__init__(self,color)\n",
    "        self.no_of_seats = no_of_seats\n",
    "    def get(self): # method overriding\n",
    "        return 'metallic '  + Car.get(self) \n",
    "        \n",
    "cars = list()\n",
    "\n",
    "cars.append(PersonalCar('black', 4))\n",
    "cars.append(Car('purple'))\n",
    "cars.append(PersonalCar('red', 2))\n",
    "\n",
    "print(cars)\n",
    "\n",
    "for car in cars:\n",
    "    print(car.get())"
   ]
  },
  {
   "cell_type": "code",
   "execution_count": null,
   "id": "55bb2245-c1b7-456a-badd-d5be924ec774",
   "metadata": {},
   "outputs": [],
   "source": [
    "class Animal:\n",
    "    def __init__(self, no_of_legs):\n",
    "        self.no_of_legs = no_of_legs\n",
    "        \n",
    "class Spider(Animal): # Spider 'is an' Animal\n",
    "    def __init__(self,poison):\n",
    "        super().__init__(6) # Animal.__init__(self,6)\n",
    "        self.poison = poison\n",
    "\n",
    "class Human(Animal): # Human 'is an' Animal"
   ]
  },
  {
   "cell_type": "code",
   "execution_count": null,
   "id": "3d82f962-0d75-4255-b08c-2b1046b593e4",
   "metadata": {},
   "outputs": [],
   "source": [
    "class Engine:\n",
    "    pass\n",
    "\n",
    "class Car: # Car has ('has an') an engine ( at least one )\n",
    "    def __init__(self):\n",
    "        self.engines = list()\n",
    "        self.wheels = list()\n",
    "\n",
    "class Heart:\n",
    "    pass\n",
    "\n",
    "class Octopus: # Octopus has ( 'has a' ) at least one heart\n",
    "    def __init__(self):\n",
    "        self.hearts = list()"
   ]
  },
  {
   "cell_type": "code",
   "execution_count": null,
   "id": "e2891f3d-1be8-4bee-9c76-06f3f81394fb",
   "metadata": {},
   "outputs": [],
   "source": [
    "class A:\n",
    "    def __init__(self,a):\n",
    "        self.a = a\n",
    "        \n",
    "class B:\n",
    "    def __init__(self,b):\n",
    "        self.b = b\n",
    "        \n",
    "class C(A,B):                        # vícenásobná dědičnost, C je potomkem A i B\n",
    "    def __init__(self,a,b,c):\n",
    "        A.__init__(self,a)\n",
    "        B.__init__(self,b)\n",
    "        self.c = c\n",
    "        \n",
    "c = C(1,2,3)\n",
    "c.get()\n",
    "print(C.__mro__)"
   ]
  },
  {
   "cell_type": "code",
   "execution_count": null,
   "id": "30a95c3f-98cc-4bbf-8a83-ca2f26f91e85",
   "metadata": {},
   "outputs": [],
   "source": [
    "class X:\n",
    "    pass\n",
    "\n",
    "class A(X):\n",
    "    pass\n",
    "\n",
    "class B(X):\n",
    "    pass\n",
    "\n",
    "class C(A,B):\n",
    "    pass\n",
    "\n",
    "print(C.__mro__)"
   ]
  },
  {
   "cell_type": "markdown",
   "id": "3a50f117-8179-4695-8b2a-e27f12c05a13",
   "metadata": {},
   "source": [
    "#### Quick exercise\n",
    "- Create class *Person*\n",
    "- Objects of *Person* have \n",
    "  - *age* attribute ( integer number in range *<0,150>* )\n",
    "  - *get()* method ( returns age )\n",
    "  - *update(plus)* method ( increments age by *plus* )\n",
    "  \n",
    "- Create class *Citizen*\n",
    "- Child of *Person*\n",
    "- Objects of *Citizen* have\n",
    "  - *street* and *city* attributes\n",
    "  - *getAddress* method ( returns address as *'street: name_of_the_street, city: name_of_the_city'* )"
   ]
  },
  {
   "cell_type": "code",
   "execution_count": null,
   "id": "ae4cd315-96f0-4c16-b401-38c12efc9b46",
   "metadata": {},
   "outputs": [],
   "source": [
    "class Person:\n",
    "    def __init__(self,age):\n",
    "        self.check_age(age)\n",
    "        self.age = age\n",
    "    def check_age(self,age):\n",
    "        if age < 0 or age > 150:\n",
    "            raise ValueError('Age is out ouf range <0,150>')\n",
    "    def get(self):\n",
    "        return self.age\n",
    "    \n",
    "    @staticmethod\n",
    "    def new_senior():\n",
    "        return Person(65)\n",
    "    \n",
    "    @staticmethod\n",
    "    def new_baby():\n",
    "        return Person(0)\n",
    "    \n",
    "    def update(self,plus):\n",
    "        self.check_age(self.age + plus)\n",
    "        self.age += plus\n",
    "\n",
    "class Citizen(Person):\n",
    "    def __init__(self,age,city,address):\n",
    "        super().__init__(age)\n",
    "        self.city = city\n",
    "        self.address = address\n",
    "    def getAddress(self):\n",
    "        return f\"Person's age is {self.age} city:{self.city}; address: {self.address}\"\n",
    "\n",
    "c = Citizen(35, 'Prague', 'Hlavni 32')\n",
    "print(c.getAddress())"
   ]
  },
  {
   "cell_type": "code",
   "execution_count": null,
   "id": "688c2e19-2ff9-436e-84de-b5d4fe032e83",
   "metadata": {},
   "outputs": [],
   "source": [
    "class Operations:\n",
    "    def __init__(self, number1, number2):\n",
    "        self.x = number1\n",
    "        self.y = number2\n",
    "        self.operations = {'+': self.add, '-': self.sub, '*': self.mul}\n",
    "        print(self.operations)\n",
    "    def add(self): # Instance method\n",
    "        return self.x + self.y\n",
    "    def sub(self):\n",
    "        return self.x - self.y\n",
    "    def mul(self):\n",
    "        return self.x * self.y\n",
    "    def compute(self, optype):\n",
    "        if optype not in self.operations:\n",
    "            raise TypeError(f'Unsupported operation {optype}')\n",
    "        return self.operations[optype]()\n",
    "                \n",
    "op = Operations(2, 6)\n",
    "print(op.add())\n",
    "print(op.compute('+'))\n",
    "print(op.compute('*'))"
   ]
  },
  {
   "cell_type": "code",
   "execution_count": null,
   "id": "fb17be8f-e767-484e-a99a-d33742f73666",
   "metadata": {},
   "outputs": [],
   "source": [
    "class A:\n",
    "    def __init__(self):\n",
    "        self.x = 100   # Visible attribute\n",
    "        self.__y = 200 # Hidden attribute ( C++: attribute name mangling )\n",
    "        \n",
    "a = A()\n",
    "print(a.__dict__)\n",
    "a.x  = 1283\n",
    "a._A__y = 8172\n",
    "print(a.__dict__)"
   ]
  },
  {
   "cell_type": "code",
   "execution_count": null,
   "id": "d118b1f9-2141-403f-8407-3402dca32219",
   "metadata": {},
   "outputs": [],
   "source": [
    "class Number:\n",
    "    def __init__(self,value):\n",
    "        self.value = value\n",
    "        \n",
    "    @staticmethod\n",
    "    def new(*values): # Factory - design pattern, static method\n",
    "        print(f'{len(values)} objects will be created')\n",
    "        return [Number(n) for n in values]\n",
    "        \n",
    "#x = Number(100)\n",
    "y = Number.new(100,200,300,48,283)\n",
    "print(y)"
   ]
  },
  {
   "cell_type": "code",
   "execution_count": null,
   "id": "7fce8eee-c7a4-4281-aa0a-dff0005071a5",
   "metadata": {},
   "outputs": [],
   "source": [
    "def add(*numbers): # FPPP\n",
    "    result = 0\n",
    "    for number in numbers:\n",
    "        result += number\n",
    "    return result\n",
    "\n",
    "def fn(**kwargs):\n",
    "    print(kwargs)\n",
    "    print(list(kwargs.keys()))\n",
    "    print(list(kwargs.values()))\n",
    "    \n",
    "data = ['first', 'second','third','fourt','fifth','last']\n",
    "first,*remaining_elements,last = data\n",
    "print(first)\n",
    "print(last)\n",
    "print(remaining_elements)"
   ]
  },
  {
   "cell_type": "code",
   "execution_count": 99,
   "id": "e1cba88a-fd40-4337-bc4f-6b2ba5d7e0b6",
   "metadata": {},
   "outputs": [
    {
     "name": "stdout",
     "output_type": "stream",
     "text": [
      "3\n",
      "4\n",
      "2\n",
      "Called = 3\n",
      "Class name: Math\n",
      "Number of calls: 3\n"
     ]
    }
   ],
   "source": [
    "class Math:\n",
    "    \n",
    "    count = 0     # class attribute\n",
    "    \n",
    "    @staticmethod # add = staticmethod(add)\n",
    "    def add(a,b):\n",
    "        Math.count += 1\n",
    "        return a + b\n",
    "    \n",
    "    @staticmethod\n",
    "    def sub(a,b):\n",
    "        Math.count += 1\n",
    "        return a - b\n",
    "    \n",
    "    @classmethod\n",
    "    def info(cls):\n",
    "       print(f'Class name: {cls.__name__}')\n",
    "       print(f'Number of calls: {cls.count}')\n",
    "\n",
    "\n",
    "print(Math.add(1,2))\n",
    "print(Math.sub(8,4))\n",
    "print(Math.add(1,1))\n",
    "print('Called =',Math.count)\n",
    "Math.info() # Math.info(Math)\n"
   ]
  },
  {
   "cell_type": "code",
   "execution_count": 102,
   "id": "8472eb4e-21d5-4e1e-a858-abefa4e08c59",
   "metadata": {},
   "outputs": [
    {
     "name": "stdout",
     "output_type": "stream",
     "text": [
      "{'x': 14}\n",
      "{'__module__': '__main__', '__init__': <function Test.__init__ at 0x0000023B446B5990>, 'print': <function Test.print at 0x0000023B446B4EE0>, '__dict__': <attribute '__dict__' of 'Test' objects>, '__weakref__': <attribute '__weakref__' of 'Test' objects>, '__doc__': None}\n"
     ]
    }
   ],
   "source": [
    "class Test:\n",
    "    def __init__(self,x):\n",
    "        self.x = x\n",
    "    def print(self):\n",
    "        print(self.x)\n",
    "        \n",
    "t = Test(14)\n",
    "print(t.__dict__)\n",
    "print(vars(Test))"
   ]
  },
  {
   "cell_type": "markdown",
   "id": "69161490-205a-4ad1-aa33-f3f5ad3db289",
   "metadata": {},
   "source": [
    "### Special methods\n",
    "- static methods ( _@staticmethod_ )\n",
    "- class methods (  _@classmethod_ )\n",
    "- properties ( _@property_ )"
   ]
  },
  {
   "cell_type": "code",
   "execution_count": 105,
   "id": "d99b62fb-2560-4930-9677-89a8459b927e",
   "metadata": {},
   "outputs": [
    {
     "name": "stdout",
     "output_type": "stream",
     "text": [
      "Initializing instance\n",
      "Destroying instance\n",
      "Calling instance method for <__main__.Pokus object at 0x0000023B44691BA0>\n",
      "prop = OK\n",
      "Setting ...\n",
      "Deleting ...\n"
     ]
    }
   ],
   "source": [
    "class Pokus:\n",
    "    def __init__(self):\n",
    "        print(\"Initializing instance\")\n",
    "\n",
    "    def instmethod(self):                                # instance method\n",
    "        print(\"Calling instance method for\",self)\n",
    "    \n",
    "    @staticmethod\n",
    "    def statmethod():                                    # static method\n",
    "        print(\"Calling static method\")\n",
    "    \n",
    "    @classmethod\n",
    "    def clsmethod(cls):                                  # class method\n",
    "        print(\"Calling class method for\",cls)\n",
    "    \n",
    "    @property\n",
    "    def prop(self):\n",
    "        return \"OK\"\n",
    "    \n",
    "    @prop.setter\n",
    "    def prop(self,value):\n",
    "        print('Setting ...')\n",
    "        \n",
    "    @prop.deleter\n",
    "    def prop(self):\n",
    "        print('Deleting ...')\n",
    "    \n",
    "    def __del__(self):\n",
    "        print(\"Destroying instance\")\n",
    "        \n",
    "\n",
    "p = Pokus()\n",
    "p.instmethod()                         \n",
    "print(\"prop =\",p.prop)  # p.prop()                    \n",
    "p.prop = 100            # p.prop(p,100)\n",
    "del p.prop              # p.prop()\n",
    "\n",
    "#del p\n",
    "\n",
    "#Pokus.statmethod()                          \n",
    "#Pokus.clsmethod()                          "
   ]
  },
  {
   "cell_type": "code",
   "execution_count": 113,
   "id": "728798a6-c562-4d30-b864-87c5d9792cd5",
   "metadata": {},
   "outputs": [
    {
     "name": "stdout",
     "output_type": "stream",
     "text": [
      "Henry\n",
      "Henry\n",
      "\n",
      "{'__module__': '__main__', '__doc__': '\\n    ', '__init__': <function Person.__init__ at 0x0000023B446B52D0>, 'name': <property object at 0x0000023B44622840>, '__dict__': <attribute '__dict__' of 'Person' objects>, '__weakref__': <attribute '__weakref__' of 'Person' objects>}\n"
     ]
    }
   ],
   "source": [
    "class Person:\n",
    "    '''\n",
    "    '''\n",
    "    def __init__(self, name):\n",
    "        self.__name = name\n",
    "        \n",
    "    @property\n",
    "    def name(self):\n",
    "        return self.__name\n",
    "    \n",
    "    @name.setter\n",
    "    def name(self, name):\n",
    "        if len(name) == 0:\n",
    "            raise ValueError('Empty names are not supported')\n",
    "        self.__name = name.title()\n",
    "        \n",
    "p = Person('Henry')\n",
    "print(p.name)\n",
    "#p.name = ''\n",
    "print(p.name)\n",
    "p._Person__name = ''\n",
    "print(p.name) \n",
    "print(vars(Person))"
   ]
  },
  {
   "cell_type": "markdown",
   "id": "27a0d6a9-fd7c-4b45-8176-38d843aa341d",
   "metadata": {},
   "source": [
    "#### Magic method\n",
    "- Use objects in specific contexts\n",
    "- process lifecycle events ( object initialization and desturction )\n",
    "- list of magic methods, [click](https://www.python-course.eu/python3_magic_methods.php)"
   ]
  },
  {
   "cell_type": "code",
   "execution_count": 116,
   "id": "03f69cc2-141b-4bad-a755-78e93357687f",
   "metadata": {},
   "outputs": [
    {
     "name": "stdout",
     "output_type": "stream",
     "text": [
      "This is Example with value 100\n"
     ]
    }
   ],
   "source": [
    "class Example:\n",
    "    def __init__(self,number):\n",
    "        self.number = number\n",
    "        \n",
    "    def __str__(self):\n",
    "        return f'This is Example with value {self.number}'\n",
    "        \n",
    "p = Example(100) # Example.__init__(p, 100)\n",
    "print(p)         # print(str(p))\n",
    "str(p)           # Example.__str__(p)"
   ]
  },
  {
   "cell_type": "code",
   "execution_count": 117,
   "id": "3ccfad18-f51e-4217-b879-8492fc7433b7",
   "metadata": {},
   "outputs": [
    {
     "name": "stdout",
     "output_type": "stream",
     "text": [
      "Point2D[10,20]\n",
      "10\n",
      "20\n",
      "48\n",
      "52.0\n"
     ]
    }
   ],
   "source": [
    "import math\n",
    "\n",
    "class Point2D:\n",
    "    def __init__(self,x,y):         # magic method: object initialization\n",
    "        self.x = x\n",
    "        self.y = y\n",
    "        \n",
    "    def __del__(self):              # magic method: object destruction\n",
    "        print(\"Removing Point2D\")\n",
    "        \n",
    "    def __str__(self):              # magic method: convert object to string\n",
    "        return f'Point2D[{self.x},{self.y}]'\n",
    "    \n",
    "    def __float__(self):            # magic method: convert object to float\n",
    "        return math.sqrt(self.x**2 + self.y**2)\n",
    "    \n",
    "    def __getitem__(self,index):    # magic method: use object as a list\n",
    "        # 1. method\n",
    "        if index == 0:\n",
    "            return self.x\n",
    "        elif index == 1:\n",
    "            return self.y\n",
    "        else:\n",
    "            raise IndexError(\"Index out of range\")\n",
    "        \n",
    "        # 2. method\n",
    "        return self.x if index == 0 else self.y\n",
    "    \n",
    "        return (self.x,self.y)[index != 0]\n",
    "    \n",
    "    def __setitem__(self,index,value):  # magic method: use object as a list\n",
    "        if index == 0:\n",
    "            self.x = value\n",
    "        elif index == 1:\n",
    "            self.y = value\n",
    "        else:\n",
    "            raise IndexError(\"Index out of range\")\n",
    "        \n",
    "p = Point2D(10,20)\n",
    "print(p)                # Point2D.__str__(p)\n",
    "print(p[0])             # Point2D.__getitem__(p,0)\n",
    "print(p[1])             # Point2D.__getitem__(p,1)\n",
    "p[0] = 48               # Point2D.__setitem__(p,0,48)\n",
    "print(p[0])             \n",
    "print(float(p))         # Point2D.__float__(p)"
   ]
  },
  {
   "cell_type": "code",
   "execution_count": 122,
   "id": "6c29fb08-77f1-432a-9478-9dd60081e147",
   "metadata": {},
   "outputs": [
    {
     "name": "stdout",
     "output_type": "stream",
     "text": [
      "Processing as integer(default)\n",
      "Processing as string\n",
      "Processing as list\n"
     ]
    }
   ],
   "source": [
    "# OOP\n",
    "#  - encapsulation\n",
    "#  - inheritance\n",
    "#  - polymorphism\n",
    "\n",
    "def fn(a,b):  # polymorphic function\n",
    "    if type(b) == type(str):   # if isinstance(b,str)\n",
    "        print(str(a) + b)\n",
    "    elif type(b) == type([]):  # if isinstance(b,list)\n",
    "        print(b.append(a))\n",
    "    ...\n",
    "\n",
    "def gn(a,b):  # polymorphic function\n",
    "    match b:\n",
    "        case str():\n",
    "            print('Processing as string')\n",
    "        case list():\n",
    "            print('Processing as list')\n",
    "        case _:\n",
    "            print('Processing as integer(default)')\n",
    "    \n",
    "gn(1,1)\n",
    "gn(1,'a')\n",
    "gn(1,[1,2,3])"
   ]
  },
  {
   "cell_type": "code",
   "execution_count": 123,
   "id": "0a8b8630-bda8-45a6-859e-522bb82d9722",
   "metadata": {},
   "outputs": [
    {
     "name": "stdout",
     "output_type": "stream",
     "text": [
      "Listing file letter.txt\n"
     ]
    }
   ],
   "source": [
    "command = 'list letter.txt'\n",
    "\n",
    "match command.split(' '): # ['list', 'letter.txt']\n",
    "    case ['list', file]:\n",
    "        print('Listing file',file)\n",
    "    case ['edit', file]:\n",
    "        print('Edition file',file)\n",
    "    case _:\n",
    "        print('Anything else')"
   ]
  },
  {
   "cell_type": "code",
   "execution_count": 125,
   "id": "f2cf8cf1-f833-4189-b844-bb57d5f1f0df",
   "metadata": {},
   "outputs": [
    {
     "name": "stdout",
     "output_type": "stream",
     "text": [
      "Number(279)\n",
      "Number(35674538806191022336)\n",
      "Number(279)\n",
      "ok\n",
      "Entering with\n",
      "Number(888)\n",
      "Escaping with\n",
      "== Details ==\n",
      "  None\n",
      "  None\n",
      "  None\n"
     ]
    }
   ],
   "source": [
    "class Number:\n",
    "    def __init__(self,num):\n",
    "        self.num = num\n",
    "    def __del__(self):\n",
    "        pass\n",
    "    def __str__(self):\n",
    "        return f'Number({self.num})'\n",
    "    def __int__(self):\n",
    "        return self.num\n",
    "    def __bool__(self):\n",
    "        if abs(self.num) > 0:\n",
    "            return True\n",
    "        return False\n",
    "    def __complex__(self):\n",
    "        return self.num+1j\n",
    "    def __add__(self,what):\n",
    "        if type(what) == type([]):\n",
    "            return Number(self.num + len(what))\n",
    "        return Number(self.num + what)\n",
    "    def __radd__(self,what):\n",
    "        return self.__add__(what)\n",
    "    def __pow__(self,value):\n",
    "        return Number(self.num ** value)\n",
    "    def __eq__(self,what):\n",
    "        return self.num == what.num\n",
    "    def __enter__(self):\n",
    "        print('Entering with')\n",
    "        return self\n",
    "    def __exit__(self,a,b,c):\n",
    "        print('Escaping with')\n",
    "        print('== Details ==')\n",
    "        print(' ',a)\n",
    "        print(' ',b)\n",
    "        print(' ',c)\n",
    "\n",
    "a = Number(278)\n",
    "b = Number(278)\n",
    "\n",
    "a + ['a','b','c']\n",
    "\n",
    "print(a + 1)  # Number.__add__(a,1)\n",
    "print(a ** 8)  \n",
    "print(1 + a)  # Number.__radd__(a,1)\n",
    "#a += 1        # Number.__iadd__(a,1)\n",
    "#print(a)\n",
    "\n",
    "if a == b: # Number.__eq__(a,b)\n",
    "    print('ok')\n",
    "\n",
    "with Number(888) as n:\n",
    "    print(n)\n",
    "    raise ValueError('=== EX ===')"
   ]
  },
  {
   "cell_type": "code",
   "execution_count": 130,
   "id": "b33955a6-8a5c-4ecc-bcd9-150d9b1787e2",
   "metadata": {},
   "outputs": [
    {
     "name": "stdout",
     "output_type": "stream",
     "text": [
      "closing file\n",
      "KLMNOPQRSTUV\n",
      "\n",
      "exiting with\n",
      "An exception occured, message: some message from exception\n"
     ]
    },
    {
     "ename": "ValueError",
     "evalue": "some message from exception",
     "output_type": "error",
     "traceback": [
      "\u001b[1;31m---------------------------------------------------------------------------\u001b[0m",
      "\u001b[1;31mValueError\u001b[0m                                Traceback (most recent call last)",
      "Input \u001b[1;32mIn [130]\u001b[0m, in \u001b[0;36m<cell line: 23>\u001b[1;34m()\u001b[0m\n\u001b[0;32m     23\u001b[0m \u001b[38;5;28;01mwith\u001b[39;00m File(\u001b[38;5;124m'\u001b[39m\u001b[38;5;124mdata.txt\u001b[39m\u001b[38;5;124m'\u001b[39m, \u001b[38;5;241m10\u001b[39m) \u001b[38;5;28;01mas\u001b[39;00m f:\n\u001b[0;32m     24\u001b[0m     \u001b[38;5;28mprint\u001b[39m(f\u001b[38;5;241m.\u001b[39mread(\u001b[38;5;241m20\u001b[39m))\n\u001b[1;32m---> 25\u001b[0m     \u001b[38;5;28;01mraise\u001b[39;00m \u001b[38;5;167;01mValueError\u001b[39;00m(\u001b[38;5;124m'\u001b[39m\u001b[38;5;124msome message from exception\u001b[39m\u001b[38;5;124m'\u001b[39m)\n\u001b[0;32m     27\u001b[0m \u001b[38;5;28mprint\u001b[39m(f\u001b[38;5;241m.\u001b[39mread(\u001b[38;5;241m2\u001b[39m))\n",
      "\u001b[1;31mValueError\u001b[0m: some message from exception"
     ]
    }
   ],
   "source": [
    "class File:\n",
    "    def __init__(self,name,offset):\n",
    "        self.offset = offset\n",
    "        self.file = open(name, 'r')\n",
    "        self.file.seek(offset,0)\n",
    "    def __del__(self):\n",
    "        print('closing file')\n",
    "        self.file.close()\n",
    "    def read(self,nbytes):\n",
    "        return self.file.read(nbytes)\n",
    "    def __enter__(self):\n",
    "        return self\n",
    "    def __exit__(self,*args):\n",
    "        print('exiting with')\n",
    "        if args[0] != None:\n",
    "            print('An exception occured, message:',args[1])\n",
    "        \n",
    "        self.file.seek(0,0)\n",
    "        \n",
    "        \n",
    "        \n",
    "        \n",
    "with File('data.txt', 10) as f:\n",
    "    print(f.read(20))\n",
    "    raise ValueError('some message from exception')\n",
    "\n",
    "print(f.read(2))"
   ]
  },
  {
   "cell_type": "markdown",
   "id": "7b81283a-2245-41c8-882c-04401ef9e3a9",
   "metadata": {},
   "source": [
    "### Magic methods - lifecycle"
   ]
  },
  {
   "cell_type": "code",
   "execution_count": null,
   "id": "70e9e187-0548-4f18-9390-32960880105e",
   "metadata": {},
   "outputs": [],
   "source": [
    "# __init__, __del__"
   ]
  },
  {
   "cell_type": "markdown",
   "id": "b66f820f-2b0a-4bc5-bc30-37026f9e86ae",
   "metadata": {},
   "source": [
    "### Magic metods - type casting"
   ]
  },
  {
   "cell_type": "code",
   "execution_count": null,
   "id": "f9829e8a-2999-4844-b129-423fa2dbc67f",
   "metadata": {},
   "outputs": [],
   "source": [
    "# __int__, __float__, __bool__, __str__, __repr__,__bytes__,..."
   ]
  },
  {
   "cell_type": "markdown",
   "id": "e6e4a173-6bb3-4e78-b2fd-61892acee48a",
   "metadata": {},
   "source": [
    "### Magic methods - arithmetics"
   ]
  },
  {
   "cell_type": "code",
   "execution_count": null,
   "id": "edcad7d7-ba26-4324-8a6e-b03487158e0b",
   "metadata": {},
   "outputs": [],
   "source": [
    "# __add__, __sub__,__mul__,__truediv__,__mod__,__pow__\n",
    "# __radd__, __rsub__, __rmul__, __rtruediv__, __rmod__, __rpow__\n",
    "# __iadd__, __isub__, __imul__,__itruediv__,__imod__,__ipow__"
   ]
  },
  {
   "cell_type": "markdown",
   "id": "7a8b0da1-304c-4d1b-8237-1515a1c38292",
   "metadata": {},
   "source": [
    "### Quick exercise\n",
    "- Create Math class\n",
    "- Class has static methods\n",
    "    - sumDigits(number)\n",
    "        - number in <100,999>, three digits\n",
    "        - returns sum of digits\n",
    "    - sumDigitsNG(number)\n",
    "        - number is unlimited\n",
    "        - returns sum of digits\n",
    "\n",
    "Math.sumDigits(132) # 6 \n",
    "\n",
    "Math.sumDigitsNG(2) # 2\n",
    "\n",
    "Math.sumDigitsNG(1234) # 10"
   ]
  },
  {
   "cell_type": "code",
   "execution_count": 135,
   "id": "57ba701c-9376-436b-b7d8-6bbe5eeca523",
   "metadata": {},
   "outputs": [
    {
     "name": "stdout",
     "output_type": "stream",
     "text": [
      "6\n",
      "30\n"
     ]
    },
    {
     "data": {
      "text/plain": [
       "24"
      ]
     },
     "execution_count": 135,
     "metadata": {},
     "output_type": "execute_result"
    }
   ],
   "source": [
    "class Math:\n",
    "    \n",
    "    @staticmethod\n",
    "    def sumDigits(number):\n",
    "        if number < 100 or number > 999:\n",
    "            raise ValueError('Number out of range')\n",
    "        return number % 10 + number // 100 + number // 10 % 10\n",
    "    \n",
    "    @staticmethod\n",
    "    def sumDigitsNG(number): # 19\n",
    "        result = 0\n",
    "        while number > 10:\n",
    "            result += number % 10           \n",
    "            number //= 10                \n",
    "        result += number\n",
    "        return result\n",
    "\n",
    "# 10/3 -> true division = 3.333333\n",
    "# 10//3 -> floor division = 3\n",
    "    \n",
    "print(Math.sumDigits(123))\n",
    "print(Math.sumDigitsNG(15879))\n",
    "\n",
    "m = Math()\n",
    "m.sumDigits(888)\n"
   ]
  },
  {
   "cell_type": "markdown",
   "id": "46574b18-cdb2-4cd8-baae-431cd2a31ffb",
   "metadata": {},
   "source": [
    "### Magic metods - boolean operations"
   ]
  },
  {
   "cell_type": "code",
   "execution_count": null,
   "id": "7448d500-5569-4351-9e99-208056e0981a",
   "metadata": {},
   "outputs": [],
   "source": [
    "# __eq__, __ne__,__le__,__lt__,__ge__"
   ]
  },
  {
   "cell_type": "code",
   "execution_count": 140,
   "id": "420575e8-1950-416f-8699-158b36695d13",
   "metadata": {},
   "outputs": [
    {
     "data": {
      "text/plain": [
       "True"
      ]
     },
     "execution_count": 140,
     "metadata": {},
     "output_type": "execute_result"
    }
   ],
   "source": [
    "class User:\n",
    "    def __init__(self,name):\n",
    "        self.name = name\n",
    "    def __eq__(self,another_name):\n",
    "        return self.name.lower() == another_name.lower()\n",
    "    def __ne_(self,another_name):\n",
    "        return not self.__eq__(another_name)\n",
    "    \n",
    "u = User('George')\n",
    "u == 'george'"
   ]
  },
  {
   "cell_type": "markdown",
   "id": "5a19f158-cee0-4c70-bfa8-148554900f4c",
   "metadata": {},
   "source": [
    "### Magic metods - context manager"
   ]
  },
  {
   "cell_type": "code",
   "execution_count": null,
   "id": "a1a813fe-8549-49b5-b34e-f9ba650930bc",
   "metadata": {},
   "outputs": [],
   "source": [
    "# __enter__, __exit__"
   ]
  },
  {
   "cell_type": "markdown",
   "id": "b6389b16-845d-4e8e-8b71-6dbfa306b969",
   "metadata": {},
   "source": [
    "### Magic metods - function object"
   ]
  },
  {
   "cell_type": "code",
   "execution_count": null,
   "id": "3789775d-6d13-4273-b292-3cf74bf42da5",
   "metadata": {},
   "outputs": [],
   "source": [
    "# __call__"
   ]
  },
  {
   "cell_type": "code",
   "execution_count": 143,
   "id": "2acffa27-af7f-46ff-85a0-2f878e991974",
   "metadata": {},
   "outputs": [
    {
     "name": "stdout",
     "output_type": "stream",
     "text": [
      "abcabcabc\n",
      "???\n"
     ]
    }
   ],
   "source": [
    "class Callable:\n",
    "    def __init__(self,start):\n",
    "        self.start = start\n",
    "    def __call__(self,data):\n",
    "        if type(data) != type([]) and type(data) != type(''):\n",
    "            raise ValueError('Only lists and string are supported')\n",
    "        return self.start * data\n",
    "    \n",
    "vol = Callable(3)       # Function object - Functor\n",
    "print(vol('abc'))       # Callable.__call__(vol, 'abc')\n",
    "print(vol('?'))"
   ]
  },
  {
   "cell_type": "code",
   "execution_count": 144,
   "id": "d215543b-8daf-4c35-badc-c3559d9e9087",
   "metadata": {},
   "outputs": [
    {
     "name": "stdout",
     "output_type": "stream",
     "text": [
      "['abc', 'a', 'xyzuadfas', 'aabaf', 'adfdf']\n",
      "['abc', 'xyzuadfas', 'aabaf', 'adfdf']\n",
      "['abc', 'xyzuadfas', 'aabaf', 'adfdf']\n",
      "['abc', 'xyzuadfas', 'aabaf', 'adfdf']\n",
      "['xyzuadfas', 'aabaf', 'adfdf']\n"
     ]
    }
   ],
   "source": [
    "entry = 'abc,a,xyzuadfas,aabaf,adfdf'.split(',')\n",
    "print(entry)\n",
    "\n",
    "# 1. lambda\n",
    "print(list(filter(lambda word:len(word) >=3, entry)))\n",
    "\n",
    "# 2. function\n",
    "def test(word):\n",
    "    return len(word) >= 3\n",
    "\n",
    "print(list(filter(test, entry)))\n",
    "\n",
    "# 3. functor\n",
    "class TestIt:\n",
    "    def __init__(self,length):\n",
    "        self.length = length\n",
    "    def __call__(self, word):\n",
    "        return len(word) >= self.length\n",
    "\n",
    "print(list(filter(TestIt(3), entry)))\n",
    "print(list(filter(TestIt(5), entry)))"
   ]
  },
  {
   "cell_type": "code",
   "execution_count": 146,
   "id": "579c3835-150e-45a1-ab66-7c45ce7d6fe5",
   "metadata": {},
   "outputs": [
    {
     "name": "stdout",
     "output_type": "stream",
     "text": [
      ">>>PYTHON<<<\n"
     ]
    }
   ],
   "source": [
    "class Decorator:\n",
    "    def __init__(self,prefix=\">>>\",suffix=\"<<<\"):\n",
    "        self.prefix,self.suffix = prefix,suffix\n",
    "    def __call__(self,string):\n",
    "        return f'{self.prefix}{string}{self.suffix}'\n",
    "    \n",
    "dec = Decorator()\n",
    "print(dec('PYTHON')) # Decorator.__call__(dec,'PYTHON')"
   ]
  },
  {
   "cell_type": "markdown",
   "id": "bd9d52a9-ed7b-44a5-a407-ecdbd53194ab",
   "metadata": {},
   "source": [
    "### Magic metods - iterations\n",
    "- StopIteration exception"
   ]
  },
  {
   "cell_type": "code",
   "execution_count": null,
   "id": "f087043e-319b-4b59-ba0f-8058cfcb27dc",
   "metadata": {},
   "outputs": [],
   "source": [
    "# __iter__ a __next__"
   ]
  },
  {
   "cell_type": "code",
   "execution_count": 150,
   "id": "e82321bb-3876-4c69-ace9-47f5aa2c1475",
   "metadata": {},
   "outputs": [
    {
     "name": "stdout",
     "output_type": "stream",
     "text": [
      "Bod3D[-50,-30,-15]\n",
      "Bod3D[-47,-59,-32]\n",
      "Bod3D[-42,-89,-50]\n",
      "Bod3D[-37,-96,-45]\n",
      "Bod3D[-37,-91,-73]\n",
      "Bod3D[-18,-65,-44]\n",
      "Bod3D[-94,-33,-23]\n",
      "Bod3D[-95,-89,-92]\n",
      "Bod3D[-63,-14,-23]\n",
      "Bod3D[-80,-28,-38]\n",
      "Bod3D[-82,-46,-72]\n",
      "Bod3D[-55,-68,-91]\n",
      "Bod3D[-63,-48,-77]\n",
      "Bod3D[-43,-65,-79]\n",
      "Bod3D[-48,-21,-48]\n",
      "Bod3D[-91,-47,-12]\n",
      "Bod3D[-75,-77,-84]\n",
      "Bod3D[-18,-56,-16]\n",
      "Bod3D[-57,-47,-88]\n",
      "Bod3D[-55,-17,-100]\n",
      "Bod3D[-46,-53,-62]\n",
      "Bod3D[-15,-34,-27]\n",
      "Bod3D[-75,-11,-55]\n",
      "Bod3D[-24,-81,-36]\n",
      "Bod3D[-23,-10,-86]\n",
      "Bod3D[-10,-22,-33]\n",
      "Bod3D[-93,-42,-86]\n",
      "Bod3D[-90,-47,-50]\n",
      "Bod3D[-61,-97,-100]\n",
      "Bod3D[-28,-49,-26]\n",
      "Bod3D[-57,-31,-26]\n",
      "Bod3D[-26,-81,-28]\n",
      "Bod3D[-98,-88,-14]\n",
      "Bod3D[-69,-95,-59]\n",
      "Bod3D[-83,-11,-54]\n",
      "Bod3D[-23,-36,-59]\n",
      "Bod3D[-14,-88,-95]\n",
      "Bod3D[-15,-21,-48]\n",
      "Bod3D[-69,-73,-99]\n",
      "Bod3D[-80,-28,-14]\n",
      "Bod3D[-83,-16,-34]\n",
      "Bod3D[-66,-69,-27]\n",
      "Bod3D[-60,-39,-54]\n",
      "Bod3D[-76,-53,-76]\n",
      "Bod3D[-54,-98,-34]\n",
      "Bod3D[-53,-91,-26]\n",
      "Bod3D[-57,-12,-71]\n",
      "Bod3D[-55,-51,-95]\n",
      "Bod3D[-27,-40,-26]\n",
      "Bod3D[-46,-15,-43]\n",
      "Bod3D[-81,-64,-77]\n",
      "Removing Point2D\n",
      "Preparing for iterations\n",
      "1\n",
      "2\n",
      "43\n"
     ]
    }
   ],
   "source": [
    "class Point3D:\n",
    "    def __init__(self,args):\n",
    "        self.x,self.y,self.z = args\n",
    "    def __str__(self):\n",
    "        return f'Bod3D[{self.x},{self.y},{self.z}]'\n",
    "    def __iter__(self):\n",
    "        print('Preparing for iterations')\n",
    "        return iter([self.x, self.y, self.z])\n",
    "    \n",
    "from random import randint\n",
    "\n",
    "class DataProvider:\n",
    "    def __init__(self,start,stop):\n",
    "        self.start,self.stop = start,stop\n",
    "    def __call__(self):\n",
    "        return (randint(self.start,self.stop),randint(self.start,self.stop),randint(self.start,self.stop))\n",
    "\n",
    "DataProvider(-100,-10)()  \n",
    "print(Point3D(DataProvider(-100,-10)()))\n",
    "    \n",
    "points = [Point3D(DataProvider(-100,-10)()) for cnt in range(50)]\n",
    "\n",
    "for point in points:\n",
    "    print(point)\n",
    "        \n",
    "p = Point3D((1,2,43))\n",
    "\n",
    "for coordinate in p:\n",
    "    print(coordinate)"
   ]
  },
  {
   "cell_type": "markdown",
   "id": "1b9bf52d-a175-4787-8ac4-4c47a940407b",
   "metadata": {},
   "source": [
    "### Abstract metods and classes\n",
    "- *abc* module ( Abstract Base Class )\n",
    "- *abstractmethod* decorator"
   ]
  },
  {
   "cell_type": "code",
   "execution_count": 152,
   "id": "957c803f-24c6-46d1-b004-f8974ce9dc16",
   "metadata": {},
   "outputs": [
    {
     "name": "stdout",
     "output_type": "stream",
     "text": [
      "6361.725123519331\n",
      "144\n"
     ]
    }
   ],
   "source": [
    "from abc import ABC, abstractmethod\n",
    "\n",
    "class GeometricObject(ABC): # Abstract class\n",
    "    def __init__(self,color='red',visible=False):\n",
    "        self.color = color\n",
    "        self.visible = visible\n",
    "    @abstractmethod\n",
    "    def area(self):\n",
    "        pass\n",
    "                \n",
    "class Square(GeometricObject):\n",
    "    def __init__(self,color,side):\n",
    "        super().__init__(color)\n",
    "        self.side = side\n",
    "    def area(self):\n",
    "        return self.side**2\n",
    "    \n",
    "class Circle(GeometricObject):\n",
    "    def __init__(self,color,radius):\n",
    "        super().__init__(color)\n",
    "        self.radius = radius\n",
    "    def area(self):\n",
    "        return math.pi*self.radius**2\n",
    "    \n",
    "def process(obj):\n",
    "    if isinstance(obj, GeometricObject):\n",
    "        print(obj.area())\n",
    "    else:\n",
    "        raise TypeError('Not a geometric object:',type(obj))\n",
    "        \n",
    "process(Circle('red', 45))\n",
    "process(Square('blue', 12))\n",
    "        "
   ]
  },
  {
   "cell_type": "code",
   "execution_count": 155,
   "id": "d91b5ac5-001e-4f24-9752-01c98c694341",
   "metadata": {},
   "outputs": [
    {
     "name": "stdout",
     "output_type": "stream",
     "text": [
      "method1\n",
      "method2\n"
     ]
    }
   ],
   "source": [
    "from abc import ABC,abstractmethod\n",
    "\n",
    "class GrandFather(ABC):\n",
    "    @abstractmethod\n",
    "    def method1(self):\n",
    "        pass\n",
    "    @abstractmethod\n",
    "    def method2(self):\n",
    "        pass\n",
    "\n",
    "class Father(GrandFather):\n",
    "    def method1(self):\n",
    "        print('method1')\n",
    "        \n",
    "class Child(Father):\n",
    "    def method2(self):\n",
    "        print('method2')\n",
    "        \n",
    "c = Child()\n",
    "c.method1()\n",
    "c.method2()\n"
   ]
  },
  {
   "cell_type": "code",
   "execution_count": null,
   "id": "8a91c729-39bd-45b4-b660-91b2fb7c0395",
   "metadata": {},
   "outputs": [],
   "source": [
    "from abc import ABC,abstractmethod\n",
    "\n",
    "class AbstractHuman(ABC):\n",
    "    @abstractmethod\n",
    "    def print(self):\n",
    "        pass\n",
    "    \n",
    "class RealHuman(AbstractHuman):\n",
    "    def print(self):\n",
    "        print('ok')\n",
    "    \n",
    "#john = AbstractHuman() \n",
    "john = RealHuman()"
   ]
  },
  {
   "cell_type": "markdown",
   "id": "9b9fe701-bbaf-41e0-8902-31327e406921",
   "metadata": {},
   "source": [
    "### Final metods ( Python 3.8+ )\n",
    "- *final* decorator"
   ]
  },
  {
   "cell_type": "code",
   "execution_count": 156,
   "id": "dc656ebc-37a5-4193-be3a-16806a6e4e64",
   "metadata": {},
   "outputs": [],
   "source": [
    "from typing import final\n",
    "\n",
    "class Parent:\n",
    "    @final\n",
    "    def print(self):\n",
    "        print('Printing ....')\n",
    "\n",
    "class Child(Parent):\n",
    "    def print(self): # Method overriding\n",
    "        print('Printing from a child')"
   ]
  },
  {
   "cell_type": "markdown",
   "id": "3f3b5995-b1e3-4776-ad2c-211fc874373a",
   "metadata": {},
   "source": [
    "### Generic access to object's atributes\n",
    "- *getattr(obj, name, default)*\n",
    "- *hasattr(obj, name)*\n",
    "- *setattr(obj, name, value)*\n",
    "- *delattr(obj, name)*"
   ]
  },
  {
   "cell_type": "code",
   "execution_count": null,
   "id": "08e4c6a8-15f4-4740-9f68-d1abacee93f8",
   "metadata": {},
   "outputs": [],
   "source": [
    "class User:\n",
    "    def __init__(self,name):\n",
    "        self.name = name\n",
    "        \n",
    "u = User('John')\n",
    "\n",
    "print(u.__dict__)\n",
    "\n",
    "print(getattr(u,'name'))           # User.__dict__.get('name')\n",
    "print(hasattr(u,'name'))           # 'name' in User.__dict__.keys()\n",
    "setattr(u,'name','George')\n",
    "print(getattr(u,'name'))"
   ]
  },
  {
   "cell_type": "code",
   "execution_count": 166,
   "id": "b83de218-9695-4550-9cb5-ae533f861493",
   "metadata": {},
   "outputs": [
    {
     "name": "stdout",
     "output_type": "stream",
     "text": [
      "{'__module__': '__main__', 'counter': 0, '__init__': <function GObject.__init__ at 0x0000023B4461D2D0>, 'print': <function GObject.print at 0x0000023B4461C3A0>, '__dict__': <attribute '__dict__' of 'GObject' objects>, '__weakref__': <attribute '__weakref__' of 'GObject' objects>, '__doc__': None}\n",
      "{'x': 100, 'name': 'any'}\n"
     ]
    }
   ],
   "source": [
    "class GObject:\n",
    "    counter = 0\n",
    "    def __init__(self):\n",
    "        self.x = 100\n",
    "        self.name = 'any'\n",
    "    def print(self):\n",
    "        pass\n",
    "\n",
    "print(vars(GObject))\n",
    "\n",
    "\n",
    "o = GObject()\n",
    "print(o.__dict__)\n"
   ]
  },
  {
   "cell_type": "markdown",
   "id": "fcc8be73-4e3f-45b1-9dcb-135976cbd8d9",
   "metadata": {},
   "source": [
    "### Useful functions\n",
    "- *id(obj)*\n",
    "- *hash(obj)*\n",
    "- *dir(obj)*\n",
    "- *doc(obj)*\n",
    "- *callable(obj)*\n",
    "\n",
    "- *isinstance(obj, class)*\n",
    "- *issubclass(class, parent)*"
   ]
  },
  {
   "cell_type": "code",
   "execution_count": null,
   "id": "17c9aa70-8b05-478f-aff8-fdbb185a6a20",
   "metadata": {},
   "outputs": [],
   "source": [
    "def add(a,b):\n",
    "    return a + b\n",
    "\n",
    "class Func:\n",
    "    def __call__(self,a,b):\n",
    "        return a + b\n",
    "\n",
    "def process(number_1, number_2, code):\n",
    "    if not callable(code):\n",
    "        raise TypeError('Not a code')\n",
    "    return code(number_1, number_2)\n",
    "\n",
    "process(1,2, add)\n",
    "process(1,2, lambda a,b: a + b)\n",
    "process(1,2, Func())\n",
    "\n",
    "import inspect\n",
    "dir(inspect)\n",
    "\n",
    "print(inspect.isfunction(add))\n"
   ]
  },
  {
   "cell_type": "markdown",
   "id": "9033fb9b-1b48-40ce-8c7d-b9410c854423",
   "metadata": {},
   "source": [
    "### Generators\n",
    "- Generate data"
   ]
  },
  {
   "cell_type": "code",
   "execution_count": null,
   "id": "52a09535-584c-4d5b-b3df-d79621ecd1a5",
   "metadata": {},
   "outputs": [],
   "source": [
    "numbers = [number for number in range(1,20)]\n",
    "print(numbers)\n",
    "\n",
    "evens = [ True if c % 2 == 0 else False for c in numbers]\n",
    "print(evens)"
   ]
  },
  {
   "cell_type": "code",
   "execution_count": null,
   "id": "e29079b8-9565-4553-907f-0217392c2d62",
   "metadata": {},
   "outputs": [],
   "source": [
    "numbers = range(1,20)                 # range is generator\n",
    "print(numbers)                        \n",
    "print(list(numbers))\n",
    "\n",
    "data = [x for x in range(1,10)]       # list comprehension\n",
    "print(\"data =\", data)\n",
    "\n",
    "data = [x for x in range(1,10) if x > 5] # list comprehension with condition\n",
    "print(\"data =\",data)\n",
    "\n",
    "data = (x for x in range(1,10))       # data is generator\n",
    "print(\"data =\",data)\n",
    "print(\"first =\", next(data))          # first number, 1\n",
    "\n",
    "data = {x:x for x in range(1,10)}     # dict comprehension\n",
    "print(\"data =\",data)\n",
    "\n",
    "data = {x:[y for y in range(0,x)] for x in range(1,5)} \n",
    "print(\"data =\",data)\n",
    "\n",
    "data = dict()\n",
    "\n",
    "for x in range(1,5):\n",
    "    data[x] = list(range(0,x)\n",
    "\n",
    "\n",
    "text = \"Welcome to Python !!\"\n",
    "\n",
    "chars = {c:text.count(c) for c in text}\n",
    "print(chars)\n",
    "\n",
    "data = [x for x in range(100) if x % 2 == 0] \n",
    "data = [True if x % 2 == 0 else False for x in range(100)]\n"
   ]
  },
  {
   "cell_type": "markdown",
   "id": "f2ecf18c-86f6-47c1-b90e-d7f649b2419d",
   "metadata": {},
   "source": [
    "### Iterators\n",
    "- helpers for accessing elements in collections\n",
    "- _iter_() method - get iterator associated with a collection\n",
    "- _next_() - get next element from a collection\n",
    "- _StopIteration_ exception - where there are no elements left"
   ]
  },
  {
   "cell_type": "code",
   "execution_count": null,
   "id": "13429d8e-28a2-42db-aa1b-582301df9727",
   "metadata": {},
   "outputs": [],
   "source": [
    "class Storage:\n",
    "    def __init__(self):\n",
    "        self.data = list()\n",
    "    def push(self,value):\n",
    "        self.data.append(value)\n",
    "    def __str__(self):\n",
    "        return str(self.data)\n",
    "    def __iter__(self):\n",
    "        return iter(self.data)\n",
    "\n",
    "st = Storage()\n",
    "st.push(3)\n",
    "st.push(4)\n",
    "print(st)\n",
    "\n",
    "for number in st:\n",
    "    print(number)\n"
   ]
  },
  {
   "cell_type": "code",
   "execution_count": null,
   "id": "5ad2e6ec-c6c3-496e-bd5a-c34c3b3716cb",
   "metadata": {},
   "outputs": [],
   "source": [
    "data = [2,4]\n",
    "it = iter(data)          # it is iterator\n",
    "\n",
    "print(next(it))          # first element, 2\n",
    "print(next(it))          # second ( the last ) element, 4\n",
    "# print(next(it))        # no more data - StopIteration\n",
    "\n",
    "f = open(\"/etc/passwd\", \"r\")     # file is an interator\n",
    "print(next(f))                   # first line\n",
    "print(next(f))                   # second line\n",
    "\n",
    "r = range(2,4)\n",
    "it = iter(r)\n",
    "print(next(it))                  # 2\n",
    "print(next(it))                  # 3\n",
    "\n",
    "def linear(start,stop,step):   # linear is a generator\n",
    "    while start <= stop:\n",
    "        yield start\n",
    "        start += step\n",
    "        \n",
    "g = linear(10,12,1)            # g is generator\n",
    "\n",
    "print(\"type(g) =\",type(g))\n",
    "\n",
    "if g is iter(g):               # g is iterator as well\n",
    "    print(\"g is iterator\")\n",
    "    \n",
    "print(next(g))                 # 10\n",
    "print(next(g))                 # 11\n",
    "print(next(g))                 # 12\n",
    "# print(next(g))               # StopIteration"
   ]
  },
  {
   "cell_type": "code",
   "execution_count": null,
   "id": "6b7c666c-e03a-41fb-b95f-246d960e666b",
   "metadata": {},
   "outputs": [],
   "source": [
    "def multiply(number):\n",
    "    while True:\n",
    "        yield number*100\n",
    "        \n",
    "gen = multiply(2)\n",
    "\n",
    "if gen == iter(gen):\n",
    "    print('Yes, iterator')\n",
    "\n",
    "print(next(gen))\n",
    "print(next(gen))\n"
   ]
  },
  {
   "cell_type": "markdown",
   "id": "c0c9efcc-6988-42fd-8372-4821f9ceb0a3",
   "metadata": {},
   "source": [
    "### Quick exercise\n",
    "- create coroutine 'splitter', that returns characters from a string"
   ]
  },
  {
   "cell_type": "code",
   "execution_count": null,
   "id": "d0264544-02c2-4544-82c3-a23112ef7779",
   "metadata": {},
   "outputs": [],
   "source": []
  }
 ],
 "metadata": {
  "kernelspec": {
   "display_name": "Python 3 (ipykernel)",
   "language": "python",
   "name": "python3"
  },
  "language_info": {
   "codemirror_mode": {
    "name": "ipython",
    "version": 3
   },
   "file_extension": ".py",
   "mimetype": "text/x-python",
   "name": "python",
   "nbconvert_exporter": "python",
   "pygments_lexer": "ipython3",
   "version": "3.10.4"
  }
 },
 "nbformat": 4,
 "nbformat_minor": 5
}
